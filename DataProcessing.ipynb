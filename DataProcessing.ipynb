{
 "cells": [
  {
   "cell_type": "markdown",
   "metadata": {},
   "source": [
    "This Document is for Data processing."
   ]
  },
  {
   "cell_type": "code",
   "execution_count": 78,
   "metadata": {
    "collapsed": true
   },
   "outputs": [],
   "source": [
    "import nltk # language processing\n",
    "import os # operation system\n",
    "from collections import namedtuple"
   ]
  },
  {
   "cell_type": "markdown",
   "metadata": {},
   "source": [
    "Definiere Nachrichtenseiten und ihre Kategorien, dies muss übereinstimmen mit der Ordnerstruktur, oder das Script wird die Dateien nicht finden bzw. zuordnen können."
   ]
  },
  {
   "cell_type": "code",
   "execution_count": 79,
   "metadata": {
    "collapsed": false
   },
   "outputs": [
    {
     "name": "stdout",
     "output_type": "stream",
     "text": [
      "256\n",
      "256\n"
     ]
    }
   ],
   "source": [
    "# Muss mit Ordnerstrukur übereinstimmen !\n",
    "#newssites = ['cnn','buzzfeed','huffington','foxnews','wallstreet','bbc','guardian','dailyexpress','dailytelegraph']\n",
    "\n",
    "#categories = ['economy','lifestyle','opinion','politics','science','sport','tech']\n",
    "\n",
    "NewsCollection = []\n",
    "News = namedtuple(\"News\",[\"title\",\"site\",\"topic\",\"text\"])\n",
    "\n",
    "path = \"/home/retkowski/Data/data\"\n",
    "\n",
    "count = 0\n",
    "sites = [site for site in os.listdir(path) if os.path.isdir(os.path.join(path, site)) and not site[0]== \".\"]\n",
    "for site in sites:\n",
    "    sitepath = path +\"/\"+site\n",
    "    for categorie in os.listdir(sitepath) :\n",
    "        if categorie[0] == \".\":\n",
    "            continue\n",
    "        categoriepath = path+\"/\"+site+\"/\"+categorie\n",
    "        if os.path.exists(categoriepath):\n",
    "            for file in os.listdir(categoriepath):\n",
    "                #Strange Empty files ?!\n",
    "                if file.endswith(\".txt\") and len(file[:-4]) > 0:\n",
    "                    with open(categoriepath+\"/\"+file) as f:\n",
    "                        newNews = News(title=file[:-4], site=site, topic=categorie, text= f.read())\n",
    "                        NewsCollection.append(newNews)\n",
    "                        count += 1\n",
    "                        f.close()\n",
    "print(count)\n",
    "print(len(NewsCollection))"
   ]
  },
  {
   "cell_type": "markdown",
   "metadata": {},
   "source": [
    "Die Daten können nun über das Array: **train_data** abgerufen werden.\n",
    "\n",
    "\n",
    "```python\n",
    "print(train_data[0][0][0])\n",
    "```\n",
    "\n",
    "In diesem Beispiel würde das erste Dokument von CNN in der Kategorie Economy ausgegeben werden (Siehe Array oben)."
   ]
  },
  {
   "cell_type": "code",
   "execution_count": 80,
   "metadata": {
    "collapsed": false
   },
   "outputs": [
    {
     "name": "stdout",
     "output_type": "stream",
     "text": [
      "9\n",
      "35\n"
     ]
    }
   ],
   "source": [
    "onlyCNN = [news for news in NewsCollection if (news.site == \"cnn\" and news.topic == \"economy\")]\n",
    "print(len(onlyCNN))\n",
    "\n",
    "onlyTech = [news for news in NewsCollection if news.topic == \"sport\"]\n",
    "print(len(onlyTech))"
   ]
  },
  {
   "cell_type": "code",
   "execution_count": 81,
   "metadata": {
    "collapsed": false
   },
   "outputs": [
    {
     "name": "stdout",
     "output_type": "stream",
     "text": [
      "dailytelegraph\n"
     ]
    }
   ],
   "source": [
    "print(NewsCollection[0].site)"
   ]
  },
  {
   "cell_type": "code",
   "execution_count": 82,
   "metadata": {
    "collapsed": true
   },
   "outputs": [],
   "source": [
    "import json"
   ]
  },
  {
   "cell_type": "code",
   "execution_count": null,
   "metadata": {
    "collapsed": true
   },
   "outputs": [],
   "source": [
    "with open(\"/home/retkowski/Data/data/downloadlist.txt\") as dl:\n",
    "    downloadlist = json.load(dl)"
   ]
  },
  {
   "cell_type": "code",
   "execution_count": 27,
   "metadata": {
    "collapsed": false
   },
   "outputs": [
    {
     "name": "stdout",
     "output_type": "stream",
     "text": [
      "[{'links': [{'url': 'http://www.bbc.com/news/business-37902922', 'tags': ['economy']}, {'url': 'http://www.bbc.com/news/business-37891734', 'tags': ['economy']}, {'url': 'http://www.bbc.com/news/business-37860880', 'tags': ['economy']}, {'url': 'http://www.bbc.com/news/business-23050597', 'tags': ['economy']}, {'url': 'http://www.bbc.com/news/business-37906742', 'tags': ['economy']}, {'url': 'http://www.bbc.com/news/uk-scotland-37909299', 'tags': ['politics']}, {'url': 'http://www.bbc.com/news/election-us-2016-37904843', 'tags': ['politics']}, {'url': 'http://www.bbc.com/news/uk-politics-37870930', 'tags': ['politics']}, {'url': 'http://www.bbc.com/news/uk-politics-37851551', 'tags': ['politics']}, {'url': 'http://www.bbc.com/news/uk-politics-37909337', 'tags': ['politics']}, {'url': 'http://www.bbc.com/news/science-environment-37861015', 'tags': ['science']}, {'url': 'http://www.bbc.com/news/science-environment-37872111', 'tags': ['science']}, {'url': 'http://www.bbc.com/news/science-environment-37823909', 'tags': ['science']}, {'url': 'http://www.bbc.com/news/science-environment-37722026', 'tags': ['science']}, {'url': 'http://www.bbc.com/news/science-environment-37893804', 'tags': ['science']}, {'url': 'http://www.bbc.com/sport/football/37908505', 'tags': ['sport']}, {'url': 'http://www.bbc.com/sport/basketball/37906636', 'tags': ['sport']}, {'url': 'http://www.bbc.com/sport/formula1/37861016', 'tags': ['sport']}, {'url': 'http://www.bbc.com/sport/tennis/37882468', 'tags': ['sport']}, {'url': 'http://www.bbc.com/sport/rugby-union/37908182', 'tags': ['sport']}, {'url': 'http://www.bbc.com/news/technology-37908915', 'tags': ['tech']}, {'url': 'http://www.bbc.com/news/technology-37908919', 'tags': ['tech']}, {'url': 'http://www.bbc.com/news/technology-37908975', 'tags': ['tech']}, {'url': 'http://www.bbc.com/news/technology-37903587', 'tags': ['tech']}, {'url': 'http://www.bbc.com/news/technology-37902613', 'tags': ['tech']}, {'url': 'http://www.bbc.com/news/business-37934201', 'tags': ['business']}, {'url': 'http://www.bbc.com/news/business-37914853', 'tags': ['business']}, {'url': 'http://www.bbc.com/news/uk-england-37921236', 'tags': ['business']}, {'url': 'http://www.bbc.com/news/world-europe-37910431', 'tags': ['business']}, {'url': 'http://www.bbc.com/news/business-37893503', 'tags': ['business']}], 'name': 'bbc'}, {'links': [{'url': 'https://www.theguardian.com/business/2016/nov/08/m-and-s-marks-spencer-close-80-stores-major-overhaul', 'tags': ['economy']}, {'url': 'https://www.theguardian.com/world/2016/nov/06/greek-prime-minister-tsipras-reshuffles-cabinet-to-boost-bailout-reforms', 'tags': ['economy']}, {'url': 'https://www.theguardian.com/business/2016/nov/07/uk-austerity-policies-amount-to-violations-of-disabled-peoples-rights', 'tags': ['economy']}, {'url': 'https://www.theguardian.com/business/2016/nov/04/sterling-pound-ftse-currencies-dolalr-donald-trump-brexit-hopes-eu-referendum', 'tags': ['economy']}, {'url': 'https://www.theguardian.com/business/2016/nov/02/moodys-warns-uk-credit-rating-downgrade-brexit', 'tags': ['economy']}, {'url': 'https://www.theguardian.com/lifeandstyle/2016/nov/04/delia-smith-christmas-cake-recipe-stephen-bush-delia-project', 'tags': ['lifestyle']}, {'url': 'https://www.theguardian.com/lifeandstyle/2016/nov/07/everything-you-ever-wanted-to-know-about-migraines-but-were-in-too-much-pain-to-ask', 'tags': ['lifestyle']}, {'url': 'https://www.theguardian.com/lifeandstyle/2016/nov/07/natural-cycles-fertility-app-algorithm-replace-pill-contraception', 'tags': ['lifestyle']}, {'url': 'https://www.theguardian.com/lifeandstyle/2016/nov/05/director-josh-appignanesi-new-man-film-wife-pregnancy-new-dad', 'tags': ['lifestyle']}, {'url': 'https://www.theguardian.com/lifeandstyle/2016/nov/05/parents-posting-about-kids-share-too-much-online-facebook-paula-cocozza', 'tags': ['lifestyle']}, {'url': 'https://www.theguardian.com/commentisfree/2016/nov/07/prison-doctor-jails-inmates-addicts-sentences', 'tags': ['opinion']}, {'url': 'https://www.theguardian.com/commentisfree/2016/nov/08/donald-trump-america-muslim-citizens', 'tags': ['opinion']}, {'url': 'https://www.theguardian.com/commentisfree/2016/nov/08/the-crown-portrayal-of-history-insult-to-my-generations-struggles', 'tags': ['opinion']}, {'url': 'https://www.theguardian.com/commentisfree/2016/nov/08/liz-truss-defend-judges-article-50-stood-by', 'tags': ['opinion']}, {'url': 'https://www.theguardian.com/commentisfree/2016/nov/08/john-lewis-haberdashery-wax-prosecco', 'tags': ['opinion']}, {'url': 'https://www.theguardian.com/world/2016/nov/09/estonias-prime-minister-loses-confidence-vote', 'tags': ['politics']}, {'url': 'https://www.theguardian.com/environment/2016/nov/09/eu-plans-320m-funding-boost-for-budding-ocean-energy-industry', 'tags': ['politics']}, {'url': 'https://www.theguardian.com/environment/2016/nov/08/eu-drops-plans-to-make-toasters-more-energy-efficient-over-intrusion-fears', 'tags': ['politics']}, {'url': 'https://www.theguardian.com/world/2016/nov/08/italian-law-requiring-children-to-take-fathers-name-unlawful', 'tags': ['politics']}, {'url': 'https://www.theguardian.com/politics/2016/nov/08/uk-risks-losing-global-influence-quits-single-market-senior-civil-servant', 'tags': ['politics']}, {'url': 'https://www.theguardian.com/science/2016/nov/07/us-military-successfully-tests-electrical-brain-stimulation-to-enhance-staff-skills', 'tags': ['science']}, {'url': 'https://www.theguardian.com/science/2016/nov/07/southern-hemisphere-fastest-to-recover-after-dinosaur-killer-asteroid-study-suggests', 'tags': ['science']}, {'url': 'https://www.theguardian.com/science/2016/nov/03/inside-the-brain-of-the-man-who-would-be-blindfold-king-of-chess-timur-gareyev', 'tags': ['science']}, {'url': 'https://www.theguardian.com/science/2016/nov/06/placebo-effect-is-there-something-in-it', 'tags': ['science']}, {'url': 'https://www.theguardian.com/society/2016/nov/03/dna-study-lays-bare-devastating-damage-caused-by-smoking', 'tags': ['science']}, {'url': 'https://www.theguardian.com/football/2016/nov/07/england-sammy-lee-bolton-transfer-deal-appeal-court', 'tags': ['sport']}, {'url': 'https://www.theguardian.com/sport/2016/nov/07/jon-jones-suspension-ufc-failed-drug-test', 'tags': ['sport']}, {'url': 'https://www.theguardian.com/sport/2016/nov/08/injury-rules-peter-siddle-out-of-second-test-against-south-africa-in-hobart', 'tags': ['sport']}, {'url': 'https://www.theguardian.com/sport/2016/nov/05/the-agenda-neymar-and-messi-head-to-head-world-cup-showdown', 'tags': ['sport']}, {'url': 'https://www.theguardian.com/sport/2016/may/02/mark-selby-world-championshp-ding-junhui', 'tags': ['sport']}, {'url': 'https://www.theguardian.com/technology/2016/nov/07/hopping-amazon-dash-buttons-', 'tags': ['tech']}, {'url': 'https://www.theguardian.com/technology/2016/nov/07/emoji-diversity-texting-emojicon-san-francisco', 'tags': ['tech']}, {'url': 'https://www.theguardian.com/technology/2016/nov/08/samsung-takes-out-full-page-ads-to-apologise-for-note-7-defects', 'tags': ['tech']}, {'url': 'https://www.theguardian.com/technology/2016/nov/07/google-burying-webmail-service-search-results-protonmail', 'tags': ['tech']}, {'url': 'https://www.theguardian.com/technology/2016/nov/08/call-of-duty-infinite-warfare-review', 'tags': ['tech']}, {'url': 'https://www.theguardian.com/business/2016/nov/08/toblerone-gets-more-gappy-but-its-fans-are-not-happy', 'tags': ['business']}, {'url': 'https://www.theguardian.com/business/2016/nov/08/rbs-facing-400m-bill-to-compensate-small-business-customers', 'tags': ['business']}, {'url': 'https://www.theguardian.com/business/2016/nov/08/sports-direct-denies-knowledge-of-secret-camera-filming-mps-shirebrook-warehouse', 'tags': ['business']}, {'url': 'https://www.theguardian.com/business/2016/nov/08/m-and-s-marks-spencer-close-80-stores-major-overhaul', 'tags': ['business']}, {'url': 'https://www.theguardian.com/business/2016/nov/08/tesco-bank-cyber-raid-unprecedented-financial-regulator-fca', 'tags': ['business']}], 'name': 'guardian'}, {'links': [{'url': 'http://www.express.co.uk/life-style/life/730170/Mum-drinks-sperm-boost-immunity-tracy-kiss', 'tags': ['lifestyle']}, {'url': 'http://www.express.co.uk/life-style/life/729994/missing-person-arthur-heeler-frood-axminster-devon-this-morning', 'tags': ['lifestyle']}, {'url': 'http://www.express.co.uk/life-style/life/729962/new-five-pound-notes-ebay-satan-devil', 'tags': ['lifestyle']}, {'url': 'http://www.express.co.uk/life-style/life/729482/Rugby-Matt-Dawson-son-meningitis-charity-disease-awareness', 'tags': ['lifestyle']}, {'url': 'http://www.express.co.uk/life-style/life/729570/James-Walker-consumer-champion-telecom-complaints', 'tags': ['lifestyle']}, {'url': 'http://www.express.co.uk/comment/beachcomber/729730/Beachcomber-99-years-old-still-stationary-cupboard', 'tags': ['opinion']}, {'url': 'http://www.express.co.uk/comment/columnists/peter-hill/729826/Donald-Trump-US-presidential-election-wins-it-won-t-be-the-end-of-the-world', 'tags': ['opinion']}, {'url': 'http://www.express.co.uk/comment/columnists/carole-ann-rice/729428/Strictly-Come-Dancing-Bake-Off-Michael-Buble-Happy-Mondays', 'tags': ['opinion']}, {'url': 'http://www.express.co.uk/comment/columnists/martin-townsend/729217/Brexit-Article-50-voices-silenced-exploitative-elite-word-editor', 'tags': ['opinion']}, {'url': 'http://www.express.co.uk/comment/expresscomment/726723/NHS-crisis-stretched-999-emergency-services-leave-thousands-without-help', 'tags': ['opinion']}, {'url': 'http://www.express.co.uk/news/politics/730011/Tory-MEP-blasts-ayatollahs-european-integration-european-army', 'tags': ['politics']}, {'url': 'http://www.express.co.uk/news/politics/729698/Baroness-Scotland-Theresa-May-home-refurbishment-row', 'tags': ['politics']}, {'url': 'http://www.express.co.uk/news/politics/694804/Chelsea-Clinton-what-does-Hillary-Clinton-daughter-do-facts-Bill-US-Democratic-President', 'tags': ['politics']}, {'url': 'http://www.express.co.uk/news/politics/729360/Turkey-President-Erdogan-European-Union-EU-Martin-Schulz-terrorism-PKK', 'tags': ['politics']}, {'url': 'http://www.express.co.uk/news/politics/729207/Brexit-Jeremy-Corbyn-Labour-collude-Remain-MPs-stop-Article-50', 'tags': ['politics']}, {'url': 'http://www.express.co.uk/news/science/729761/Collision-galaxies-HUGE-cosmic-eye-in-the-sky', 'tags': ['science']}, {'url': 'http://www.express.co.uk/news/science/727666/END-OF-DEATH-Humans-live-FOREVER-aubrey-de-grey', 'tags': ['science']}, {'url': 'http://www.express.co.uk/news/science/727655/WARFARE-Bionic-SPINACH-detect-bombs', 'tags': ['science']}, {'url': 'http://www.express.co.uk/news/science/727648/MASS-EXTINCTION-dinosaurs-earth-wwf', 'tags': ['science']}, {'url': 'http://www.express.co.uk/news/science/726632/big-bang-universe-black-hole-singularity', 'tags': ['science']}, {'url': 'http://www.express.co.uk/sport/rugbyunion/729778/Rugby-Union-England-New-Zealand-Maro-Itoje-Owen-Farrell-Billy-Vunipola-News', 'tags': ['sport']}, {'url': 'http://www.express.co.uk/sport/football/729911/Liverpool-Transfer-News-Mamadou-Sakho-Talks-Didier-Deschamps-France', 'tags': ['sport']}, {'url': 'http://www.express.co.uk/sport/football/722159/Next-England-manager-candidates-assessed', 'tags': ['sport']}, {'url': 'http://www.express.co.uk/sport/rugbyunion/729771/Wales-Shaun-Edwards-Australia-Rugby-Union-News-Cardiff-Ireland-New-Zealand-Warburton', 'tags': ['sport']}, {'url': 'http://www.express.co.uk/sport/tennis/729351/Andy-Murray-Tennis-Novak-Djokovic-Leon-Smith-David-Nalbandian-Wimbledon-Olympics-Federer', 'tags': ['sport']}, {'url': 'http://www.express.co.uk/life-style/science-technology/729687/online-passwords-britain-yahoo-leak-password-qwerty-123456', 'tags': ['tech']}, {'url': 'http://www.express.co.uk/life-style/science-technology/729564/WhatsApp-How-To-Send-GIFs-Convert-Videos', 'tags': ['tech']}, {'url': 'http://www.express.co.uk/life-style/science-technology/728860/AirPods-UK-Release-Date-Update-Apple-Headphones', 'tags': ['tech']}, {'url': 'http://www.express.co.uk/life-style/science-technology/728790/New-Macbook-Pro-2016-Apple-Microsoft-laptop-touch-screen', 'tags': ['tech']}, {'url': 'http://www.express.co.uk/life-style/science-technology/728722/Samsung-Gear-S3-UK-Price-Stock-More-Than-Apple-Watch', 'tags': ['tech']}, {'url': 'http://www.express.co.uk/finance/city/729928/marks-and-spencer-shut-60-stores-profits-plunge-80-job-losses', 'tags': ['business']}, {'url': 'http://www.express.co.uk/finance/city/729776/City-News-Ryanair-Sainsbury-HSBC-JCB', 'tags': ['business']}, {'url': 'http://www.express.co.uk/finance/city/727830/Shell-BP-tighten-belt-over-low-oil-prices-spending-cuts', 'tags': ['business']}, {'url': 'http://www.express.co.uk/finance/city/727620/UK-manufacturing-exports-soar-Brexit-economy-boost-weak-pound', 'tags': ['business']}, {'url': 'http://www.express.co.uk/finance/city/727517/Lidl-UK-economy-boost-southampton-distribution-centre', 'tags': ['business']}], 'name': 'dailyexpress'}, {'links': [{'url': 'http://www.telegraph.co.uk/business/2016/11/08/manufacturing-growth-beats-forecasts-as-industry-shows-no-impact/', 'tags': ['economy']}, {'url': 'http://www.telegraph.co.uk/business/2016/11/08/uk-jobs-market-thriving-after-summer-pause/', 'tags': ['economy']}, {'url': 'http://www.telegraph.co.uk/business/2016/11/04/strong-germany-bolsters-steady-eurozone-economy/', 'tags': ['economy']}, {'url': 'http://www.telegraph.co.uk/business/2016/11/02/fed-holds-off-hiking-rates-for-now-as-election-looms/', 'tags': ['economy']}, {'url': 'http://www.telegraph.co.uk/business/2016/10/27/eus-canada-free-trade-ceta-deal-could-be-back-on-as-walloons-agr/', 'tags': ['economy']}, {'url': 'http://www.telegraph.co.uk/food-and-drink/drinks/aquavit-this-winters-coolest-drink/', 'tags': ['lifestyle']}, {'url': 'http://www.telegraph.co.uk/travel/lists/best-exotic-gardens-to-visit-in-winter/', 'tags': ['lifestyle']}, {'url': 'http://www.telegraph.co.uk/beauty/people/hillary-clinton-used-to-resent-the-obsessive-scrutiny-of-her-loo/', 'tags': ['lifestyle']}, {'url': 'http://www.telegraph.co.uk/women/family/the-real-life-missing-my-husband-went-for-a-walk-on-holiday-and/', 'tags': ['lifestyle']}, {'url': 'http://www.telegraph.co.uk/men/thinking-man/until-we-treat-male-and-female-domestic-abuse-victims-the-same-w/', 'tags': ['lifestyle']}, {'url': 'http://www.telegraph.co.uk/news/2016/11/08/dont-let-up-on-cutting-the-deficit-chancellor-or-you-will-be-bet/', 'tags': ['opinion']}, {'url': 'http://www.telegraph.co.uk/news/2016/11/07/britain-like-india-has-the-right-and-duty-to-enforce-visa-contro/', 'tags': ['opinion']}, {'url': 'http://www.telegraph.co.uk/women/family/dont-trust-the-natural-birth-myth-the-drugs-do-work---believe-me/', 'tags': ['opinion']}, {'url': 'http://www.telegraph.co.uk/news/2016/11/05/television-on-demand-no-thanks-i-want-more-of-the-shows-that-i-d/', 'tags': ['opinion']}, {'url': 'http://www.telegraph.co.uk/news/2016/11/05/when-the-fight-for-mosul-ends-the-real-battle-for-the-future-of/', 'tags': ['opinion']}, {'url': 'http://www.telegraph.co.uk/news/2016/10/31/us-election-fears-boosting-calls-to-childline-says-nspcc/', 'tags': ['politics']}, {'url': 'http://www.telegraph.co.uk/news/2016/11/02/sir-john-chilcot-to-be-urged-by-mps-to-apologise-for-inquiry-del/', 'tags': ['politics']}, {'url': 'http://www.telegraph.co.uk/news/2016/11/02/pension-cold-calling-could-be-banned-within-weeks-government-sug/', 'tags': ['politics']}, {'url': 'http://www.telegraph.co.uk/news/2016/10/31/raheem-kassam-pulls-out-of-ukip-leadership-race-because-path-to/', 'tags': ['politics']}, {'url': 'http://www.telegraph.co.uk/news/2016/11/03/home-office-to-crackdown-on-non-eu-migrants-using-the-nhs/', 'tags': ['politics']}, {'url': 'http://www.telegraph.co.uk/news/0/what-is-a-supermoon-and-what-is-the-best-time-to-view-it-tonight/', 'tags': ['science']}, {'url': 'http://www.telegraph.co.uk/science/2016/11/02/close-door-buttons-do-work-in-british-liftsbut-not-in-us-elevato/', 'tags': ['science']}, {'url': 'http://www.telegraph.co.uk/news/2016/11/02/controlled-explosions-carried-out-in-schools-after-a-level-chemi/', 'tags': ['science']}, {'url': 'http://www.telegraph.co.uk/science/2016/11/01/treating-criminals-with-anti-psychotic-drugs-could-prevent-1500/', 'tags': ['science']}, {'url': 'http://www.telegraph.co.uk/science/2016/10/31/smartphones-and-tablets-in-bedrooms-disrupt-sleep-even-when-swit/', 'tags': ['science']}, {'url': 'http://www.telegraph.co.uk/football/2016/11/08/arsenal-forward-alexis-sanchez-suffers-injury-in-chile-training/', 'tags': ['sport']}, {'url': 'http://www.telegraph.co.uk/football/2016/11/08/zlatan-ibrahimovic-admits-he-could-have-scored-more-since-joinin/', 'tags': ['sport']}, {'url': 'http://www.telegraph.co.uk/sport/2016/11/07/the-search-for-the-uks-greatest-ever-sportsperson-starts-now/', 'tags': ['sport']}, {'url': 'http://www.telegraph.co.uk/racing/2016/11/07/jonjo-oneill-talks-up-more-of-that-for-cheltenham-glory/', 'tags': ['sport']}, {'url': 'http://www.telegraph.co.uk/sailing/2016/11/07/lack-of-female-skippers-in-this-years-vendee-globe-a-shame-but-w/', 'tags': ['sport']}, {'url': 'http://www.telegraph.co.uk/technology/2016/11/07/the-gmail-app-finally-lets-you-unsend-embarrassing-emails/', 'tags': ['tech']}, {'url': 'http://www.telegraph.co.uk/technology/2016/11/08/facebook-messenger-boss-admits-bots-are-a-work-in-progress/', 'tags': ['tech']}, {'url': 'http://www.telegraph.co.uk/business/2016/11/08/artificial-intelligence-the-next-big-bet-for-online-retailers-sa/', 'tags': ['tech']}, {'url': 'http://www.telegraph.co.uk/technology/2016/11/08/facebooks-10-year-plan-drones-satellites-and-virtual-reality/', 'tags': ['tech']}, {'url': 'http://www.telegraph.co.uk/technology/2016/11/08/iphone-update-adds-a-hidden-way-to-call-the-police-in-an-emergen/', 'tags': ['tech']}, {'url': 'http://www.telegraph.co.uk/business/2016/11/08/pfizer-to-close-two-manufacturing-sites-in-uk-with-370-job-losse/', 'tags': ['business']}, {'url': 'http://www.telegraph.co.uk/business/2016/11/08/abf-shares-jump-on-unexpectedly-sweet-profits/', 'tags': ['business']}, {'url': 'http://www.telegraph.co.uk/business/2016/11/02/avant-homes-reports-soaring-revenues-as-it-demands-government-he/', 'tags': ['business']}, {'url': 'http://www.telegraph.co.uk/business/2016/10/28/chinese-investor-eyes-up-high-end-house-builder-cala-homes-for-t/', 'tags': ['business']}, {'url': 'http://www.telegraph.co.uk/business/2016/10/14/dcc-buys-tech-storage-distributor-hammer-in-383m-deal/', 'tags': ['business']}], 'name': 'dailytelegraph'}, {'links': [{'url': 'http://money.cnn.com/2016/11/01/news/economy/hillary-clinton-win-forecast-moodys-analytics/index.html', 'tags': ['economy']}, {'url': 'http://money.cnn.com/2016/11/09/investing/markets-donald-trump-hillary-clinton/index.html', 'tags': ['economy']}, {'url': 'http://money.cnn.com/2016/11/09/news/economy/india-rupee-notes-bank-shutdown/index.html', 'tags': ['economy']}, {'url': 'http://money.cnn.com/2016/11/07/news/economy/california-marijuana-tax/index.html', 'tags': ['economy']}, {'url': 'http://money.cnn.com/2016/11/08/news/economy/iran-total-south-pars-gas/index.html', 'tags': ['economy']}, {'url': 'http://edition.cnn.com/2016/11/07/fashion/military-style-invades-fashion/index.html', 'tags': ['lifestyle']}, {'url': 'http://edition.cnn.com/2016/11/06/design/north-korea-subway-commute/index.html', 'tags': ['lifestyle']}, {'url': 'http://edition.cnn.com/2016/10/31/arts/wartime-photos-transformed-into-ghostly-fantasies/index.html', 'tags': ['lifestyle']}, {'url': 'http://edition.cnn.com/2016/10/31/world/van-gogh-ear-slash-motive-trnd/index.html', 'tags': ['lifestyle']}, {'url': 'http://edition.cnn.com/2016/10/25/architecture/bahai-temple-chile/index.html', 'tags': ['lifestyle']}, {'url': 'http://edition.cnn.com/2016/11/07/opinions/changing-conversation-sexual-assault-steiner/index.html', 'tags': ['opinion']}, {'url': 'http://edition.cnn.com/2016/10/28/opinions/the-bathroom-issue-were-not-talking-about/index.html', 'tags': ['opinion']}, {'url': 'http://edition.cnn.com/2016/10/28/opinions/1945-world-series-lauder/index.html', 'tags': ['opinion']}, {'url': 'http://edition.cnn.com/2015/04/29/opinions/david-love-thugs-riot-shaming/index.html', 'tags': ['opinion']}, {'url': 'http://edition.cnn.com/2015/05/13/opinions/love-move-bombing-anniversary/index.html', 'tags': ['opinion']}, {'url': 'http://edition.cnn.com/2016/11/07/politics/nasa-astronaut-space-vote-election-2016/index.html', 'tags': ['politics']}, {'url': 'http://edition.cnn.com/2016/10/08/world/russia-veto-syria-un-resolution/index.html', 'tags': ['politics']}, {'url': 'http://edition.cnn.com/2016/04/10/politics/john-kerry-g7-no-apology-hiroshima/index.html', 'tags': ['politics']}, {'url': 'http://edition.cnn.com/2016/11/08/politics/evan-bayh-todd-young-indiana-senate-election-results/index.html', 'tags': ['politics']}, {'url': 'http://edition.cnn.com/2016/11/05/politics/girls-on-the-bus-how-things-have-change-gloria-borger/index.html', 'tags': ['politics']}, {'url': 'http://edition.cnn.com/2016/11/09/tennis/steve-simon-wta-maria-sharapova-drugs-ban-return/index.html', 'tags': ['sport']}, {'url': 'http://edition.cnn.com/2016/11/08/sport/santiago-lange-cancer-survivor-sailing-awards/index.html', 'tags': ['sport']}, {'url': 'http://edition.cnn.com/2016/11/02/golf/golf-korea-pak-park/index.html', 'tags': ['sport']}, {'url': 'http://edition.cnn.com/2016/11/04/sport/valkenswaard-united-gcl-team-champions/index.html', 'tags': ['sport']}, {'url': 'http://edition.cnn.com/2016/10/22/sport/all-blacks-record-bledisloe/index.html', 'tags': ['sport']}, {'url': 'http://money.cnn.com/2016/11/04/technology/google-snapchat-investment/index.html', 'tags': ['tech']}, {'url': 'http://money.cnn.com/2016/11/04/technology/apple-dongle-price-cuts-macbook-pro/index.html', 'tags': ['tech']}, {'url': 'http://money.cnn.com/2016/11/04/technology/nintendo-nes-classic-edition-review/index.html', 'tags': ['tech']}, {'url': 'http://money.cnn.com/2016/11/08/technology/hyperloop-dubai-abu-dhabi/index.html', 'tags': ['tech']}, {'url': 'http://money.cnn.com/2016/11/01/technology/android-google-harry-potter-spells/index.html', 'tags': ['tech']}, {'url': 'http://money.cnn.com/2016/11/08/technology/gopro-karma-recall/index.html?iid=SF_LN', 'tags': ['business']}, {'url': 'http://money.cnn.com/2016/11/08/investing/hertz-stock-earnings/index.html?iid=SF_LN', 'tags': ['business']}, {'url': 'http://money.cnn.com/2016/11/08/news/tesla-factory-germany-grohmann-engineering/index.html', 'tags': ['business']}, {'url': 'http://money.cnn.com/2016/11/09/news/companies/gm-layoffs/index.html?iid=SF_LN', 'tags': ['business']}, {'url': 'http://money.cnn.com/2016/11/08/investing/cvs-earnings-stock-walgreens/index.html?iid=SF_River', 'tags': ['business']}], 'name': 'cnn'}, {'links': [{'url': 'https://www.buzzfeed.com/essencegant/muslim-beauty-blogger-new-face-of-covergirl', 'tags': ['lifestyle']}, {'url': 'https://www.buzzfeed.com/laraparker/we-tried-four-different-eyebrow-gels-to-see-which-one-we-lik', 'tags': ['lifestyle']}, {'url': 'https://www.buzzfeed.com/tyleriam/my-kings-my-kings', 'tags': ['lifestyle']}, {'url': 'https://www.buzzfeed.com/juliegerstein/galaxy-makeup-is-exactly-what-we-all-want-this-halloween', 'tags': ['lifestyle']}, {'url': 'https://www.buzzfeed.com/essencegant/pretty-af-pics-of-nicki-minaj', 'tags': ['lifestyle']}, {'url': 'https://www.buzzfeed.com/chrismcdaniel/nebraska-votes-to-bring-back-the-death-penalty', 'tags': ['politics']}, {'url': 'https://www.buzzfeed.com/darrensands/in-north-carolina-a-final-late-night-effort-to-turn-out-blac', 'tags': ['politics']}, {'url': 'https://www.buzzfeed.com/aliciamelvillesmith/first-woman-attorney-general-janet-reno-dies-at-age-78', 'tags': ['politics']}, {'url': 'https://www.buzzfeed.com/jimdalrympleii/the-sagebrush-candidate-mcmullin-wants-the-feds-out-of-the-w', 'tags': ['politics']}, {'url': 'https://www.buzzfeed.com/chrisgeidner/appeals-court-no-new-anti-voter-intimidation-rules-in-place', 'tags': ['politics']}, {'url': 'https://www.buzzfeed.com/caseygueren/about-that-male-birth-control-study', 'tags': ['science']}, {'url': 'https://www.buzzfeed.com/tomchivers/almost-half-of-medical-trials-are-never-published-and-its-hu', 'tags': ['science']}, {'url': 'https://www.buzzfeed.com/craigsilverman/can-facebook-trending-fight-off-fake-news', 'tags': ['science']}, {'url': 'https://www.buzzfeed.com/stephaniemlee/whats-in-your-babys-dna', 'tags': ['science']}, {'url': 'https://www.buzzfeed.com/caseygueren/omg-you-guys-std-rates-are-the-highest-theyve-ever-been', 'tags': ['science']}, {'url': 'https://www.buzzfeed.com/juliegerstein/richard-sherman-dressed-as-harry-potter-for-a-press-conferen', 'tags': ['sport']}, {'url': 'https://www.buzzfeed.com/aliciamelvillesmith/maria-sharapovas-doping-ban-cut-from-2-years-to-15-months', 'tags': ['sport']}, {'url': 'https://www.buzzfeed.com/claudiakoerner/vin-scully-sweetly-summed-up-his-67-season-career-as-a-sport', 'tags': ['sport']}, {'url': 'https://www.buzzfeed.com/claudiakoerner/jose-fernandezs-teammate-hit-the-most-heartbreaking-homerun', 'tags': ['sport']}, {'url': 'https://www.buzzfeed.com/talalansari/marcus-peters-is-the-latest-athlete-to-protest-during-the-na', 'tags': ['sport']}, {'url': 'https://www.buzzfeed.com/mathonan/the-origin-of-twitters-election-site', 'tags': ['tech']}, {'url': 'https://www.buzzfeed.com/carolineodonovan/at-emojicon-vibrators-chia-pets-and-a-lesson-about-democracy', 'tags': ['tech']}, {'url': 'https://www.buzzfeed.com/nicolenguyen/apple-is-dropping-the-price-on-all-of-its-usb-c-ad', 'tags': ['tech']}, {'url': 'https://www.buzzfeed.com/carolineodonovan/sen-al-franken-racial-bias-uber-and-lyft', 'tags': ['tech']}, {'url': 'https://www.buzzfeed.com/alexkantrowitz/vine-co-founders-new-app-hype', 'tags': ['tech']}, {'url': 'https://www.buzzfeed.com/coralewis/mcdonalds-settles-labor-lawsuit-with-800-franchise-workers', 'tags': ['business']}, {'url': 'https://www.buzzfeed.com/leticiamiranda/study-claims-pattern-of-discrimination-on-uber-based-on-race', 'tags': ['business']}, {'url': 'https://www.buzzfeed.com/leticiamiranda/samsung-washer-machine-recall', 'tags': ['business']}, {'url': 'https://www.buzzfeed.com/matthewzeitlin/payday-loans-in-south-dakota', 'tags': ['business']}, {'url': 'https://www.buzzfeed.com/coralewis/on-demand-deliver-workers-alliance', 'tags': ['business']}], 'name': 'buzzfeed'}, {'links': [{'url': 'http://www.huffingtonpost.com/entry/victorias-secret-fashion-show-x-swarovski-outfit-see_us_58220451e4b0334571e0a1ea', 'tags': ['lifestyle']}, {'url': 'http://www.huffingtonpost.com/entry/how-to-treat-every-type-of-acne_us_58220617e4b044f827a79387', 'tags': ['lifestyle']}, {'url': 'http://www.huffingtonpost.com/entry/how-to-get-rid-of-beard-related-pimples_us_5820e1e4e4b044f827a7917e', 'tags': ['lifestyle']}, {'url': 'http://www.huffingtonpost.com/rani-st-pucchi/what-does-your-style-say-_b_12802718.html', 'tags': ['lifestyle']}, {'url': 'http://www.huffingtonpost.com/entry/hands-down-these-are-the-worst-shoes-for-your-feet_us_581bad9ee4b01022624114ba', 'tags': ['lifestyle']}, {'url': 'http://www.huffingtonpost.com/zac-thompson/president-donald-trumps-acceptance-speech_b_12877042.html?utm_hp_ref=outspeak', 'tags': ['opinion']}, {'url': 'http://www.huffingtonpost.com/zac-thompson/lgbt-and-muslim-people-ar_b_12867230.html', 'tags': ['opinion']}, {'url': 'http://www.huffingtonpost.com/outspeak/everything-you-need-to-know-clowns_b_12740036.html', 'tags': ['opinion']}, {'url': 'http://www.huffingtonpost.com/outspeak/heres-some-creepy-cats-for_b_12737688.html', 'tags': ['opinion']}, {'url': 'http://www.huffingtonpost.com/zac-thompson/american-politics-is-a-du_b_12576096.html', 'tags': ['opinion']}, {'url': 'http://www.huffingtonpost.com/entry/canada-immigration-trump-president_us_58229b95e4b0e80b02cdcdad', 'tags': ['politics']}, {'url': 'http://www.huffingtonpost.com/entry/election-day-marijuana-votes_us_5822e05ae4b0aac6248854e6', 'tags': ['politics']}, {'url': 'http://www.huffingtonpost.com/entry/john-mccain-arizona-senate_us_581b7476e4b07cfea321b70d', 'tags': ['politics']}, {'url': 'http://www.huffingtonpost.com/entry/california-gun-law_us_5818e50ae4b00f11fc5c22aa', 'tags': ['politics']}, {'url': 'http://www.huffingtonpost.com/entry/pramila-jayapal-wins_us_5820ed1be4b0e80b02cc0193', 'tags': ['politics']}, {'url': 'http://www.huffingtonpost.com/entry/kendall-jenner-sleep-paralysis_us_580a2833e4b0cdea3d86e413', 'tags': ['science']}, {'url': 'http://www.huffingtonpost.com/entry/supermoon-watch_us_581a04e6e4b0a76e174c3538', 'tags': ['science']}, {'url': 'http://www.huffingtonpost.com/entry/un-climate-change-report_us_582214dfe4b0d9ce6fbf0bcc', 'tags': ['science']}, {'url': 'http://www.huffingtonpost.com/entry/dad-calls-out-needlessly-gendered-label-on-space-themed-lunch-box_us_581b569ae4b0c43e6c1e7ce9', 'tags': ['science']}, {'url': 'http://www.huffingtonpost.com/entry/sexual-pleasure-trance_us_581a0950e4b01f610e395c14', 'tags': ['science']}, {'url': 'http://www.huffingtonpost.com/entry/stephen-curry-record-breaking-3-pointers_us_5821b957e4b0e80b02cc752d', 'tags': ['sport']}, {'url': 'http://www.huffingtonpost.com/entry/chris-boswell-onside-kick_us_582075c7e4b0aac624856c2d', 'tags': ['sport']}, {'url': 'http://www.huffingtonpost.com/entry/snl-chicago-cubs-bill-murray_us_581ee15ce4b0aac62484faa7', 'tags': ['sport']}, {'url': 'http://www.huffingtonpost.com/entry/happiness-personified_us_581cf1dfe4b0d9ce6fbc12a8', 'tags': ['sport']}, {'url': 'http://www.huffingtonpost.com/entry/cleveland-indians-world-series-loss-fans_us_581bbc16e4b0d9ce6fbaed20', 'tags': ['sport']}, {'url': 'http://www.huffingtonpost.com/entry/slack-microsoft-open-letter_us_581a0e66e4b01f610e396815', 'tags': ['tech']}, {'url': 'http://www.huffingtonpost.com/entry/this-dell-laptop-never-worked-how-about-a-refund_us_581f553ce4b0334571e09d7c', 'tags': ['tech']}, {'url': 'http://www.huffingtonpost.com/brian-de-haaff/the-culture-behind-leadin_b_12776284.html', 'tags': ['tech']}, {'url': 'http://www.huffingtonpost.com/entry/facebook-growth_us_581a69e0e4b0c43e6c1de937', 'tags': ['tech']}, {'url': 'http://www.huffingtonpost.com/entry/aol-youve-got-mail-uber-driver-elwood-edwards_us_58209c4ce4b0e80b02cb3ecd', 'tags': ['tech']}, {'url': 'http://www.huffingtonpost.com/entry/walgreens-sues-theranos_us_582249b6e4b0d9ce6fbf87e0', 'tags': ['business']}, {'url': 'http://www.huffingtonpost.com/nerdwallet/virtual-reality-how-tech_b_12870624.html', 'tags': ['business']}, {'url': 'http://www.huffingtonpost.com/yatin-khulbe/the-startling-decline-of-_b_12796210.html', 'tags': ['business']}, {'url': 'http://www.huffingtonpost.com/burgerbusiness/mcdonalds-drops-create-yo_b_12802598.html', 'tags': ['business']}, {'url': 'http://www.huffingtonpost.com/al-norman/wal-marts-astounding-shop_b_12778376.html', 'tags': ['business']}], 'name': 'huffington'}]\n"
     ]
    }
   ],
   "source": [
    "ls = []\n",
    "for siteCounter, site in enumerate(downloadlist):\n",
    "    sitename = site[\"name\"]\n",
    "    \n",
    "    links = []\n",
    "    \n",
    "    for categoryCounter, categorie in enumerate(site[\"categories\"]):\n",
    "        categoriename = categorie[\"name\"]\n",
    "        \n",
    "        for link in categorie[\"links\"]:\n",
    "            linkDict = {\"url\" : link, \"tags\" : [categoriename]}\n",
    "            links.append(linkDict)\n",
    "            \n",
    "    siteDict = { \"name\" : sitename,\n",
    "                 \"links\" : links}\n",
    "    ls.append(siteDict)\n",
    "print(ls)"
   ]
  },
  {
   "cell_type": "code",
   "execution_count": 77,
   "metadata": {
    "collapsed": false
   },
   "outputs": [
    {
     "name": "stdout",
     "output_type": "stream",
     "text": [
      "bbc\n",
      "[['http://money.cnn.com/2016/11/01/news/economy/hillary-clinton-win-forecast-moodys-analytics/index.html', ['economy']], ['http://money.cnn.com/2016/11/09/investing/markets-donald-trump-hillary-clinton/index.html', ['economy']], ['http://money.cnn.com/2016/11/09/news/economy/india-rupee-notes-bank-shutdown/index.html', ['economy']], ['http://money.cnn.com/2016/11/07/news/economy/california-marijuana-tax/index.html', ['economy']], ['http://money.cnn.com/2016/11/08/news/economy/iran-total-south-pars-gas/index.html', ['economy']], ['http://edition.cnn.com/2016/11/07/fashion/military-style-invades-fashion/index.html', ['lifestyle']], ['http://edition.cnn.com/2016/11/06/design/north-korea-subway-commute/index.html', ['lifestyle']], ['http://edition.cnn.com/2016/10/31/arts/wartime-photos-transformed-into-ghostly-fantasies/index.html', ['lifestyle']], ['http://edition.cnn.com/2016/10/31/world/van-gogh-ear-slash-motive-trnd/index.html', ['lifestyle']], ['http://edition.cnn.com/2016/10/25/architecture/bahai-temple-chile/index.html', ['lifestyle']], ['http://edition.cnn.com/2016/11/07/opinions/changing-conversation-sexual-assault-steiner/index.html', ['opinion']], ['http://edition.cnn.com/2016/10/28/opinions/the-bathroom-issue-were-not-talking-about/index.html', ['opinion']], ['http://edition.cnn.com/2016/10/28/opinions/1945-world-series-lauder/index.html', ['opinion']], ['http://edition.cnn.com/2015/04/29/opinions/david-love-thugs-riot-shaming/index.html', ['opinion']], ['http://edition.cnn.com/2015/05/13/opinions/love-move-bombing-anniversary/index.html', ['opinion']], ['http://edition.cnn.com/2016/11/07/politics/nasa-astronaut-space-vote-election-2016/index.html', ['politics']], ['http://edition.cnn.com/2016/10/08/world/russia-veto-syria-un-resolution/index.html', ['politics']], ['http://edition.cnn.com/2016/04/10/politics/john-kerry-g7-no-apology-hiroshima/index.html', ['politics']], ['http://edition.cnn.com/2016/11/08/politics/evan-bayh-todd-young-indiana-senate-election-results/index.html', ['politics']], ['http://edition.cnn.com/2016/11/05/politics/girls-on-the-bus-how-things-have-change-gloria-borger/index.html', ['politics']], ['http://edition.cnn.com/2016/11/09/tennis/steve-simon-wta-maria-sharapova-drugs-ban-return/index.html', ['sport']], ['http://edition.cnn.com/2016/11/08/sport/santiago-lange-cancer-survivor-sailing-awards/index.html', ['sport']], ['http://edition.cnn.com/2016/11/02/golf/golf-korea-pak-park/index.html', ['sport']], ['http://edition.cnn.com/2016/11/04/sport/valkenswaard-united-gcl-team-champions/index.html', ['sport']], ['http://edition.cnn.com/2016/10/22/sport/all-blacks-record-bledisloe/index.html', ['sport']], ['http://money.cnn.com/2016/11/04/technology/google-snapchat-investment/index.html', ['tech']], ['http://money.cnn.com/2016/11/04/technology/apple-dongle-price-cuts-macbook-pro/index.html', ['tech']], ['http://money.cnn.com/2016/11/04/technology/nintendo-nes-classic-edition-review/index.html', ['tech']], ['http://money.cnn.com/2016/11/08/technology/hyperloop-dubai-abu-dhabi/index.html', ['tech']], ['http://money.cnn.com/2016/11/01/technology/android-google-harry-potter-spells/index.html', ['tech']], ['http://money.cnn.com/2016/11/08/technology/gopro-karma-recall/index.html?iid=SF_LN', ['business']], ['http://money.cnn.com/2016/11/08/investing/hertz-stock-earnings/index.html?iid=SF_LN', ['business']], ['http://money.cnn.com/2016/11/08/news/tesla-factory-germany-grohmann-engineering/index.html', ['business']], ['http://money.cnn.com/2016/11/09/news/companies/gm-layoffs/index.html?iid=SF_LN', ['business']], ['http://money.cnn.com/2016/11/08/investing/cvs-earnings-stock-walgreens/index.html?iid=SF_River', ['business']]]\n"
     ]
    }
   ],
   "source": [
    "jsonfile = json.loads(json.dumps(ls))\n",
    "\n",
    "print(jsonfile[0][\"name\"])\n",
    "\n",
    "for site in jsonfile:\n",
    "    if site[\"name\"] == \"cnn\" :\n",
    "        links = site[\"links\"]\n",
    "\n",
    "linklist = [site[\"links\"] for site in jsonfile if site[\"name\"] == \"cnn\"][0]\n",
    "downloadList = [[link[\"url\"], link[\"tags\"]] for link in linklist]\n",
    "print(downloadList)"
   ]
  }
 ],
 "metadata": {
  "anaconda-cloud": {},
  "kernelspec": {
   "display_name": "Python [conda root]",
   "language": "python",
   "name": "conda-root-py"
  },
  "language_info": {
   "codemirror_mode": {
    "name": "ipython",
    "version": 3
   },
   "file_extension": ".py",
   "mimetype": "text/x-python",
   "name": "python",
   "nbconvert_exporter": "python",
   "pygments_lexer": "ipython3",
   "version": "3.5.2"
  }
 },
 "nbformat": 4,
 "nbformat_minor": 1
}
