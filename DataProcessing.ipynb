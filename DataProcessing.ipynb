{
 "cells": [
  {
   "cell_type": "markdown",
   "metadata": {},
   "source": [
    "This Document is for Data processing."
   ]
  },
  {
   "cell_type": "code",
   "execution_count": 2,
   "metadata": {
    "collapsed": true
   },
   "outputs": [],
   "source": [
    "import nltk # language processing\n",
    "import os # operation system"
   ]
  },
  {
   "cell_type": "markdown",
   "metadata": {},
   "source": [
    "Definiere Nachrichtenseiten und ihre Kategorien, dies muss übereinstimmen mit der Ordnerstruktur, oder das Script wird die Dateien nicht finden bzw. zuordnen können."
   ]
  },
  {
   "cell_type": "code",
   "execution_count": 3,
   "metadata": {
    "collapsed": false
   },
   "outputs": [],
   "source": [
    "# Muss mit Ordnerstrukur übereinstimmen !\n",
    "newssites = ['cnn','buzzfeed','huffington','foxnews','wallstreet','bbc','guardian','dailyexpress','dailytelegraph']\n",
    "\n",
    "categories = ['economy','lifestyle','opinion','politics','science','sport','tech']\n",
    "\n",
    "train_data = []\n",
    "\n",
    "for site in newssites:\n",
    "    site_index = newssites.index(site)\n",
    "    train_data.append([])\n",
    "    \n",
    "    for categorie in categories:\n",
    "        categorie_index = categories.index(categorie)\n",
    "        train_data[site_index].append([])\n",
    "        \n",
    "        \n",
    "        path = \"/home/retkowski/data/\"+site+\"/\"+categorie\n",
    "        if os.path.exists(path):\n",
    "            count = 0 \n",
    "            \n",
    "            for file in os.listdir(path):                     \n",
    "                if file.endswith(\".txt\"):\n",
    "                    with open(path+\"/\"+file) as f:\n",
    "                        train_data[site_index][categorie_index].append([])\n",
    "                        train_data[site_index][categorie_index][count].append(f.readlines())\n",
    "                        count += 1\n",
    "                        f.close()"
   ]
  },
  {
   "cell_type": "markdown",
   "metadata": {},
   "source": [
    "Die Daten können nun über das Array: **train_data** abgerufen werden.\n",
    "\n",
    "\n",
    "```python\n",
    "print(train_data[0][0][0])\n",
    "```\n",
    "\n",
    "In diesem Beispiel würde das erste Dokument von CNN in der Kategorie Economy ausgegeben werden (Siehe Array oben)."
   ]
  },
  {
   "cell_type": "code",
   "execution_count": 6,
   "metadata": {
    "collapsed": false
   },
   "outputs": [
    {
     "name": "stdout",
     "output_type": "stream",
     "text": [
      "[[\"It's about the cash, not just the stash.\\n\", '\\n', 'Voters in five states will decide Tuesday whether to legalize recreational marijuana, and a key argument for supporters is that it will bring in big tax revenue.\\n', '\\n', 'In California, advocates say legal pot could generate $1 billion a year, with much of it going to substance abuse education and programs to prevent driving under the influence.\\n', '\\n', 'Is that projection realistic? Other states that have approved non-medical marijuana offer some clues.\\n', '\\n', 'Related: Five states consider legalizing marijuana\\n', '\\n', 'Colorado is probably the best example. Voters approved recreational weed there in 2012, the earliest of any state that still has it. And, like California, it already had legal medical marijuana, so there was already a network of medical dispensaries and growers.\\n', '\\n', 'Legal recreational weed went on sale in Colorado in 2014, and state economists had great expectations. Analysts projected that the first full fiscal year, through June 2015, would bring in $70 million in tax revenue.\\n', '\\n', '\"It was a brand new industry with new challenges, so any estimate was going to be educated guesswork,\" said Joe Henchman, vice president of state and legal affairs for the Tax Foundation, a nonpartisan tax research group.\\n', '\\n', 'But just a few months after legal sales began, tax flow was disappointing, and economists decided they had been too optimistic. So they lowered that estimate to $54.7 million.\\n', '\\n', 'They should have waited. Sales picked up. Colorado wound up with $106 million in tax revenue from recreational weed from the first full fiscal year that it was legal.\\n', '\\n', 'As it turns out, the market was just getting started. The next year, the state pulled in $163 million.\\n', '\\n', '\"It took a little bit longer for the market to fully establish itself than originally projected,\" said Taylor West, deputy director of the National Cannabis Industry Association.\\n', '\\n', 'Colorado is off to an even stronger start in its current fiscal year, which began July 1. The state reported $17.6 million for July and $19 million for August, its two strongest months so far.\\n', '\\n', 'Colorado charges a 10% sales tax on pot on top of its regular sales tax. Sellers cover a 15% excise tax, plus application and license fees.\\n', '\\n', \"In California, $1 billion a year is the high end of the estimate from the state Legislative Analyst's Office. The low end is the high hundreds of millions.\\n\", '\\n', \"That forecast is written right into Proposition 64, the ballot item that voters will consider. It's based on cultivation taxes of $9.25 per ounce of buds and $2.75 per ounce of leaves, plus a 15% excise tax.\\n\", '\\n', \"A billion dollars may seem small compared with California's overall budget of $170 billion. But the revenue is earmarked for a slew of projects, including substance abuse prevention and treatment, cleanup of environmental damage from illegal pot growth, and programs to reduce drunken and stoned driving.\\n\", '\\n', '\"I\\'m not trying to scoff at a billion dollars,\" said Adam Orens, co-founder of the Marijuana Policy Group. \"A lot can be done with it. Voters should take that into consideration.\"\\n', '\\n', 'Related: The business of pot\\n', '\\n', 'Recreational marijuana is also on the ballot in Massachusetts, Maine, Arizona and Nevada.\\n', '\\n', 'It is already legal in Washington, Oregon, Alaska and Washington, D.C. Two of those states, Washington and Oregon, have been selling legal weed long enough to provide reliable data.\\n', '\\n', 'Washington collected $77 million in taxes during its first full fiscal year of recreational legalization, which ended on June 30, according to the Tax Foundation. The current year is projected to bring in at least $270 million in taxes.\\n', '\\n', 'Related: Tourists flock to Colorado to smoke legal weed\\n', '\\n', 'Voters were told that legalization would bring in as much as $1.9 billion over five years, said the Tax Foundation, with 40% going to the general fund and the rest going to substance abuse prevention, research education and health care. It remains to be seen whether tax revenue will match that forecast.\\n', '\\n', 'Oregon started selling recreational marijuana in late 2015. In the most recent month available, January 2016, it collected about $3.5 million in tax revenue -- triple the expectation, according to the Tax Foundation.\\n', '\\n', 'Four states -- Florida, Missouri, Arkansas and North Dakota -- are voting on whether to legalize medical marijuana, which is taxed, but not nearly so much as recreational pot. California brings in about $50 million in annual tax revenue from medical marijuana.\\n', '\\n', '--Correction: An earlier version of this story misspelled the last name of Adam Orens, co-founder of the Marijuana Policy Group.']]\n"
     ]
    }
   ],
   "source": [
    "print(train_data[0][0][1])"
   ]
  },
  {
   "cell_type": "code",
   "execution_count": null,
   "metadata": {
    "collapsed": true
   },
   "outputs": [],
   "source": []
  }
 ],
 "metadata": {
  "anaconda-cloud": {},
  "kernelspec": {
   "display_name": "Python [conda root]",
   "language": "python",
   "name": "conda-root-py"
  },
  "language_info": {
   "codemirror_mode": {
    "name": "ipython",
    "version": 3
   },
   "file_extension": ".py",
   "mimetype": "text/x-python",
   "name": "python",
   "nbconvert_exporter": "python",
   "pygments_lexer": "ipython3",
   "version": "3.5.2"
  }
 },
 "nbformat": 4,
 "nbformat_minor": 1
}
