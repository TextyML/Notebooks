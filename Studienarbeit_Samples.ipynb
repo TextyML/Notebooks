{
 "cells": [
  {
   "cell_type": "code",
   "execution_count": 1,
   "metadata": {
    "collapsed": true,
    "deletable": true,
    "editable": true
   },
   "outputs": [],
   "source": [
    "texts = [\"I left my home state, Ohio, for the Marine Corps when I was 19.\", \"The main purpose of the Yahoo hack was to gather political and economic intelligence, officials said.\"]"
   ]
  },
  {
   "cell_type": "code",
   "execution_count": 2,
   "metadata": {
    "collapsed": true,
    "deletable": true,
    "editable": true
   },
   "outputs": [],
   "source": [
    "import sys\n",
    "import pandas as pd\n",
    "sys.path.append('/home/retkowski/texty-ml/')\n",
    "sys.path = list(set(sys.path))"
   ]
  },
  {
   "cell_type": "code",
   "execution_count": 8,
   "metadata": {
    "collapsed": true,
    "deletable": true,
    "editable": true
   },
   "outputs": [],
   "source": [
    "from Import.Preprocessor import Preprocessor\n",
    "from Import.LinguisticVectorizer import LinguisticVectorizer\n",
    "from Import.CorpusImporter import CorpusImporter"
   ]
  },
  {
   "cell_type": "markdown",
   "metadata": {
    "deletable": true,
    "editable": true
   },
   "source": [
    "# Preprocessor"
   ]
  },
  {
   "cell_type": "code",
   "execution_count": 4,
   "metadata": {
    "collapsed": false,
    "deletable": true,
    "editable": true
   },
   "outputs": [
    {
     "name": "stdout",
     "output_type": "stream",
     "text": [
      "i left my home state ohio for the marine corps when i was\n",
      "the main purpose of the yahoo hack was to gather political and economic intelligence officials said\n"
     ]
    }
   ],
   "source": [
    "preprocessor = Preprocessor()\n",
    "preprocessed_texts = []\n",
    "for text in texts:\n",
    "    preprocessed_texts.append(preprocessor.get_preprocessed_text(text))\n",
    "    print(preprocessed_texts[-1])"
   ]
  },
  {
   "cell_type": "markdown",
   "metadata": {
    "deletable": true,
    "editable": true
   },
   "source": [
    "# Linguistic Features"
   ]
  },
  {
   "cell_type": "code",
   "execution_count": 56,
   "metadata": {
    "collapsed": false,
    "deletable": true,
    "editable": true
   },
   "outputs": [
    {
     "name": "stdout",
     "output_type": "stream",
     "text": [
      "['text_length' 'number_of_paragraphs' 'average_sent_length'\n",
      " 'average_word_length' 'number_of_nouns' 'number_of_adjectives'\n",
      " 'number_of_verbs' 'number_of_numbers' 'type_token_relation'\n",
      " 'concentration_index' 'hapaxes_index' 'action_index'\n",
      " 'number_of_question_marks' 'number_of_exclamations'\n",
      " 'number_of_percentages' 'number_of_currency_symbols'\n",
      " 'number_of_paragraph_symbols' 'content_fraction' 'number_of_cappsed_words'\n",
      " 'number_of_first_person_pronouns']\n",
      "[[ 13.           0.          13.           3.46153846   0.53846154   0.\n",
      "    0.15384615   0.           0.92307692   1.           0.84615385   1.\n",
      "    0.           0.           0.           0.           0.           0.46153846\n",
      "    0.           0.23076923]\n",
      " [ 16.           0.          16.           5.25         0.3125       0.1875\n",
      "    0.1875       0.           0.9375       1.           0.875        0.5\n",
      "    0.           0.           0.           0.           0.           0.625\n",
      "    0.           0.        ]]\n"
     ]
    },
    {
     "ename": "NameError",
     "evalue": "name 'feature_namest' is not defined",
     "output_type": "error",
     "traceback": [
      "\u001b[0;31m---------------------------------------------------------------------------\u001b[0m",
      "\u001b[0;31mNameError\u001b[0m                                 Traceback (most recent call last)",
      "\u001b[0;32m<ipython-input-56-49acea00e460>\u001b[0m in \u001b[0;36m<module>\u001b[0;34m()\u001b[0m\n\u001b[1;32m      5\u001b[0m \u001b[0mprint\u001b[0m\u001b[0;34m(\u001b[0m\u001b[0mfeature_transform\u001b[0m\u001b[0;34m)\u001b[0m\u001b[0;34m\u001b[0m\u001b[0m\n\u001b[1;32m      6\u001b[0m \u001b[0;34m\u001b[0m\u001b[0m\n\u001b[0;32m----> 7\u001b[0;31m \u001b[0mprint\u001b[0m\u001b[0;34m(\u001b[0m\u001b[0mlen\u001b[0m\u001b[0;34m(\u001b[0m\u001b[0mfeature_namest\u001b[0m\u001b[0;34m)\u001b[0m\u001b[0;34m)\u001b[0m\u001b[0;34m\u001b[0m\u001b[0m\n\u001b[0m\u001b[1;32m      8\u001b[0m \u001b[0mprint\u001b[0m\u001b[0;34m(\u001b[0m\u001b[0mlen\u001b[0m\u001b[0;34m(\u001b[0m\u001b[0mfeature_transform\u001b[0m\u001b[0;34m[\u001b[0m\u001b[0;36m0\u001b[0m\u001b[0;34m]\u001b[0m\u001b[0;34m)\u001b[0m\u001b[0;34m)\u001b[0m\u001b[0;34m\u001b[0m\u001b[0m\n",
      "\u001b[0;31mNameError\u001b[0m: name 'feature_namest' is not defined"
     ]
    }
   ],
   "source": [
    "linguisticvectorizer = LinguisticVectorizer()\n",
    "feature_names = linguisticvectorizer.get_feature_names()\n",
    "feature_transform = linguisticvectorizer.transform(preprocessed_texts)\n",
    "print(feature_names)\n",
    "print(feature_transform)"
   ]
  },
  {
   "cell_type": "code",
   "execution_count": 57,
   "metadata": {
    "collapsed": false
   },
   "outputs": [
    {
     "name": "stdout",
     "output_type": "stream",
     "text": [
      "20\n",
      "20\n"
     ]
    }
   ],
   "source": [
    "print(len(feature_names))\n",
    "print(len(feature_transform[0]))"
   ]
  },
  {
   "cell_type": "code",
   "execution_count": 6,
   "metadata": {
    "collapsed": false,
    "deletable": true,
    "editable": true
   },
   "outputs": [],
   "source": [
    "df = pd.DataFrame({'opinion' : pd.Series(feature_transform[0], index=linguisticvectorizer.get_feature_names()),\n",
    "                      'tech' : pd.Series(feature_transform[1], index=linguisticvectorizer.get_feature_names())})"
   ]
  },
  {
   "cell_type": "code",
   "execution_count": 7,
   "metadata": {
    "collapsed": false,
    "deletable": true,
    "editable": true
   },
   "outputs": [
    {
     "name": "stdout",
     "output_type": "stream",
     "text": [
      "                                   opinion     tech\n",
      "text_length                      13.000000  16.0000\n",
      "number_of_paragraphs              0.000000   0.0000\n",
      "average_sent_length              13.000000  16.0000\n",
      "average_word_length               3.461538   5.2500\n",
      "number_of_nouns                   0.538462   0.3125\n",
      "number_of_adjectives              0.000000   0.1875\n",
      "number_of_verbs                   0.153846   0.1875\n",
      "number_of_numbers                 0.000000   0.0000\n",
      "type_token_relation               0.923077   0.9375\n",
      "concentration_index               1.000000   1.0000\n",
      "hapaxes_index                     0.846154   0.8750\n",
      "action_index                      1.000000   0.5000\n",
      "number_of_question_marks          0.000000   0.0000\n",
      "number_of_exclamations            0.000000   0.0000\n",
      "number_of_percentages             0.000000   0.0000\n",
      "number_of_currency_symbols        0.000000   0.0000\n",
      "number_of_paragraph_symbols       0.000000   0.0000\n",
      "content_fraction                  0.461538   0.6250\n",
      "number_of_cappsed_words           0.000000   0.0000\n",
      "number_of_first_person_pronouns   0.230769   0.0000\n"
     ]
    }
   ],
   "source": [
    "print(df)"
   ]
  },
  {
   "cell_type": "code",
   "execution_count": 11,
   "metadata": {
    "collapsed": true,
    "deletable": true,
    "editable": true
   },
   "outputs": [],
   "source": [
    "corpus = CorpusImporter()\n",
    "corpus.clearMemory()"
   ]
  },
  {
   "cell_type": "code",
   "execution_count": 12,
   "metadata": {
    "collapsed": false,
    "deletable": true,
    "editable": true
   },
   "outputs": [
    {
     "name": "stdout",
     "output_type": "stream",
     "text": [
      "Maximum Documents:  30\n",
      "Reading archives [/home/retkowski/nltk_data/nyt/2007]:  ['01.tgz', '02.tgz', '03.tgz', '04.tgz', '05.tgz', '06.tgz']\n"
     ]
    }
   ],
   "source": [
    "corpus.crawlNYT(whitelist=['Technology','Politics','Sports'], is_multilabel=False)"
   ]
  },
  {
   "cell_type": "code",
   "execution_count": 14,
   "metadata": {
    "collapsed": false,
    "deletable": true,
    "editable": true
   },
   "outputs": [
    {
     "name": "stdout",
     "output_type": "stream",
     "text": [
      "30\n",
      "Item(text=\"\\n        Marquette point guard Dominic James wore dark blue knee-highs Sunday afternoon to warm his legs, not because he was trying to make a fashion statement. But his team's play definitely made an impression.\\n        ''They're a great team, don't get me wrong,'' James said. ''But we're here. We're here.''\\n        The Golden Eagles ended sixth-ranked Pittsburgh's 12-game home winning streak with a 77-74 overtime triumph, their fourth consecutive victory over all and third in a row on the road.\\n        James, who scored a game-high 23 points, made two free throws with less than a second remaining in overtime to secure the victory for No. 24 Marquette (17-4, 4-2 Big East).\\n        James and the Golden Eagles passed through a capacity crowd of 12,508 and a Panthers team that began Big East play with a 5-0 record matched in team history by only the 2002-3 team.\\n        The winning streak for Pittsburgh (17-3, 5-1) included victories against Georgetown and Connecticut in the past eight days.\\n        In the past two weeks, the Golden Eagles have won at UConn, at Louisville and at Pitt.\\n        ''Pitt, they're going to go on and win a lot of games,'' said James, a 5-foot-11 sophomore. ''They're not going to lose many more games at home. But for us to come in and get a win, especially in their home, that gives us a great deal of confidence.''\\n        The Golden Eagles forced 18 turnovers by the Panthers, who led the N.C.A.A. in assist-turnover ratio, and held them to a 41.8 shooting percentage.\\n        Pittsburgh, which still leads the Big East after second-place Syracuse lost to St. John's earlier Sunday, trailed by as many as 11 points with nearly 12 minutes remaining and by 9 with four minutes left.\\n        The Panthers clawed back when Marquette failed to make a basket in those final four minutes, relying on 11 second-half points from guard Ronald Ramon and free throws. Ramon, who finished with 21 points, sent the game into overtime on two free throws with 3.5 seconds left that tied the score at 64-64.\\n        Marquette entered the game shooting 63 percent from free-throw line. But Wesley Matthews, who finished with 14 points, and James converted all 10 Marquette free-throw attempts in overtime. The Golden Eagles made their final 15 attempts after missing 7 of their previous 11.\\n        ''When you go 10 for 10 in overtime, you're not going to see too many teams lose,'' Pittsburgh Coach Jamie Dixon said.\\n        Dixon watched Aaron Gray (16 points, 9 rebounds) go 1 for 4 from the free-throw line in overtime. Pittsburgh owned leads of 72-69 and 74-73 in the extra period but frittered away chances.\\n        Gray missed two free throws with 2 minutes 7 seconds left in overtime and had a pass by Levon Kendall carom off his fingertips in the final 30 seconds.\\n        James was fouled after dribbling into a forest of arms with nine-tenths of a second left. James made both free throws; right before, Marquette Coach Tom Crean joked about getting pizza when it was over. Matthews added two more with one-tenth of a second left after he intercepted Pittsburgh's inbounds heave.\\n        ''A lot of people have said, 'This team can't shoot free throws,' '' James said. ''Statistics show that. But we all believe in each other.''\\n        Crean afterward denied he had called Pittsburgh ''dirty,'' as Panthers forward Mike Cook was quoted as saying in The Pittsburgh Post-Gazette on Sunday.\\n        The dispute stemmed from a collision between Pittsburgh's Antonio Graves and James last season that injured James. The issue bubbled over Sunday when Crean raised it before the game. The officials called 54 fouls.\\n        ''I want to put that stuff to bed,'' Crean said. ''It's over.''\\n        But the Big East season is far from over. Marquette will face only one more currently ranked team on the road, No. 20 Notre Dame on Feb. 24.\\n        It will end the regular season against Pittsburgh on March 3.\\n        And about James's long socks that Crean criticized before the game? ''I feel like after the game I had today,'' James said, ''he can't say anything about it.''\\n        COLLEGE BASKETBALL\\n      \\n    \", titles=None, tags=['Sports'])\n"
     ]
    }
   ],
   "source": [
    "print(len(corpus._Collection))\n",
    "print(corpus._Collection[0])"
   ]
  },
  {
   "cell_type": "code",
   "execution_count": 33,
   "metadata": {
    "collapsed": false,
    "deletable": true,
    "editable": true
   },
   "outputs": [],
   "source": [
    "from sklearn.preprocessing import StandardScaler\n",
    "#from sklearn.feature_extraction.text import TfidfTransformer\n",
    "#from sklearn.feature_extraction.text import CountVectorizer\n",
    "#from sklearn.naive_bayes import MultinomialNB\n",
    "from sklearn.pipeline import Pipeline, FeatureUnion\n",
    "from sklearn.preprocessing import MinMaxScaler\n",
    "from sklearn.preprocessing import FunctionTransformer\n",
    "from sklearn.decomposition import PCA\n",
    "#from sklearn.linear_model import LogisticRegression\n",
    "#from sklearn.decomposition import TruncatedSVD\n",
    "#from nltk.corpus import stopwords\n",
    "#from nltk.stem.snowball import SnowballStemmer \n",
    "#from nltk import PorterStemmer\n",
    "#from nltk import LancasterStemmer\n",
    "#from sklearn.feature_selection import SelectKBest\n",
    "#from sklearn.feature_selection import f_classif\n",
    "from sklearn import tree\n",
    "\n",
    "lv = LinguisticVectorizer()\n",
    "clf = tree.DecisionTreeClassifier()\n",
    "\n",
    "pca = PCA(n_components=3)\n",
    "\n",
    "fu = FeatureUnion([\n",
    "    ('lv', Pipeline([\n",
    "      ('linguistic', lv)\n",
    "    ]))\n",
    "])\n",
    "\n",
    "pipeline = Pipeline([\n",
    "  ('features', fu),\n",
    "  ('scaler', StandardScaler(with_mean=True)),\n",
    "  #('dim_red', pca),\n",
    "  ('classifier', clf)\n",
    "])"
   ]
  },
  {
   "cell_type": "code",
   "execution_count": 34,
   "metadata": {
    "collapsed": true,
    "deletable": true,
    "editable": true
   },
   "outputs": [],
   "source": [
    "from sklearn.model_selection import train_test_split\n",
    "X_train, X_test, Y_train, Y_test = train_test_split([news.text for news in corpus._Collection if news.text is not None], [news.tags[0] for news in corpus._Collection if news.text is not None], test_size=0.2, random_state=42)"
   ]
  },
  {
   "cell_type": "code",
   "execution_count": 24,
   "metadata": {
    "collapsed": false,
    "deletable": true,
    "editable": true
   },
   "outputs": [
    {
     "name": "stdout",
     "output_type": "stream",
     "text": [
      "Sports\n"
     ]
    }
   ],
   "source": [
    "print(Y_train[2])"
   ]
  },
  {
   "cell_type": "code",
   "execution_count": 35,
   "metadata": {
    "collapsed": false,
    "deletable": true,
    "editable": true,
    "scrolled": true
   },
   "outputs": [
    {
     "data": {
      "text/plain": [
       "Pipeline(steps=[('features', FeatureUnion(n_jobs=1,\n",
       "       transformer_list=[('lv', Pipeline(steps=[('linguistic', LinguisticVectorizer())]))],\n",
       "       transformer_weights=None)), ('scaler', StandardScaler(copy=True, with_mean=True, with_std=True)), ('classifier', DecisionTreeClassifier(class_weight=None, cri...it=2, min_weight_fraction_leaf=0.0,\n",
       "            presort=False, random_state=None, splitter='best'))])"
      ]
     },
     "execution_count": 35,
     "metadata": {},
     "output_type": "execute_result"
    }
   ],
   "source": [
    "pipeline.fit(X_train, Y_train)"
   ]
  },
  {
   "cell_type": "code",
   "execution_count": 36,
   "metadata": {
    "collapsed": false,
    "deletable": true,
    "editable": true
   },
   "outputs": [
    {
     "name": "stdout",
     "output_type": "stream",
     "text": [
      "0.166666666667\n"
     ]
    }
   ],
   "source": [
    "print(pipeline.score(X=X_test,y=Y_test))"
   ]
  },
  {
   "cell_type": "code",
   "execution_count": 32,
   "metadata": {
    "collapsed": false,
    "deletable": true,
    "editable": true
   },
   "outputs": [
    {
     "name": "stdout",
     "output_type": "stream",
     "text": [
      "24\n"
     ]
    }
   ],
   "source": [
    "print(len(X_train))"
   ]
  },
  {
   "cell_type": "code",
   "execution_count": 50,
   "metadata": {
    "collapsed": false,
    "deletable": true,
    "editable": true
   },
   "outputs": [],
   "source": [
    "clf_tree = tree.DecisionTreeClassifier(max_depth=3)\n"
   ]
  },
  {
   "cell_type": "code",
   "execution_count": 41,
   "metadata": {
    "collapsed": false,
    "deletable": true,
    "editable": true
   },
   "outputs": [
    {
     "name": "stdout",
     "output_type": "stream",
     "text": [
      "['text_length' 'number_of_paragraphs' 'average_sent_length'\n",
      " 'average_word_length' 'number_of_nouns' 'number_of_adjectives'\n",
      " 'number_of_verbs' 'number_of_numbers' 'type_token_relation'\n",
      " 'concentration_index' 'hapaxes_index' 'action_index'\n",
      " 'number_of_question_marks' 'number_of_exclamations'\n",
      " 'number_of_percentages' 'number_of_currency_symbols'\n",
      " 'number_of_paragraph_symbols' 'content_fraction' 'number_of_cappsed_words'\n",
      " 'number_of_first_person_pronouns']\n"
     ]
    }
   ],
   "source": [
    "print(lv.get_feature_names())"
   ]
  },
  {
   "cell_type": "code",
   "execution_count": 47,
   "metadata": {
    "collapsed": false,
    "deletable": true,
    "editable": true
   },
   "outputs": [],
   "source": [
    "train_data = lv.transform(X_train)"
   ]
  },
  {
   "cell_type": "code",
   "execution_count": 54,
   "metadata": {
    "collapsed": true,
    "deletable": true,
    "editable": true
   },
   "outputs": [],
   "source": [
    "test_data = lv.transform(X_test)"
   ]
  },
  {
   "cell_type": "code",
   "execution_count": 51,
   "metadata": {
    "collapsed": false,
    "deletable": true,
    "editable": true
   },
   "outputs": [
    {
     "data": {
      "text/plain": [
       "DecisionTreeClassifier(class_weight=None, criterion='gini', max_depth=3,\n",
       "            max_features=None, max_leaf_nodes=None,\n",
       "            min_impurity_split=1e-07, min_samples_leaf=1,\n",
       "            min_samples_split=2, min_weight_fraction_leaf=0.0,\n",
       "            presort=False, random_state=None, splitter='best')"
      ]
     },
     "execution_count": 51,
     "metadata": {},
     "output_type": "execute_result"
    }
   ],
   "source": [
    "clf_tree.fit(X=train_data, y=Y_train)"
   ]
  },
  {
   "cell_type": "code",
   "execution_count": 53,
   "metadata": {
    "collapsed": false,
    "deletable": true,
    "editable": true
   },
   "outputs": [
    {
     "data": {
      "image/svg+xml": [
       "<?xml version=\"1.0\" encoding=\"UTF-8\" standalone=\"no\"?>\n",
       "<!DOCTYPE svg PUBLIC \"-//W3C//DTD SVG 1.1//EN\"\n",
       " \"http://www.w3.org/Graphics/SVG/1.1/DTD/svg11.dtd\">\n",
       "<!-- Generated by graphviz version 2.38.0 (20140413.2041)\n",
       " -->\n",
       "<!-- Title: Tree Pages: 1 -->\n",
       "<svg width=\"770pt\" height=\"373pt\"\n",
       " viewBox=\"0.00 0.00 769.50 373.00\" xmlns=\"http://www.w3.org/2000/svg\" xmlns:xlink=\"http://www.w3.org/1999/xlink\">\n",
       "<g id=\"graph0\" class=\"graph\" transform=\"scale(1 1) rotate(0) translate(4 369)\">\n",
       "<title>Tree</title>\n",
       "<polygon fill=\"white\" stroke=\"none\" points=\"-4,4 -4,-369 765.5,-369 765.5,4 -4,4\"/>\n",
       "<!-- 0 -->\n",
       "<g id=\"node1\" class=\"node\"><title>0</title>\n",
       "<path fill=\"none\" stroke=\"black\" d=\"M386.5,-365C386.5,-365 198.5,-365 198.5,-365 192.5,-365 186.5,-359 186.5,-353 186.5,-353 186.5,-309 186.5,-309 186.5,-303 192.5,-297 198.5,-297 198.5,-297 386.5,-297 386.5,-297 392.5,-297 398.5,-303 398.5,-309 398.5,-309 398.5,-353 398.5,-353 398.5,-359 392.5,-365 386.5,-365\"/>\n",
       "<text text-anchor=\"middle\" x=\"292.5\" y=\"-349.8\" font-family=\"Helvetica,sans-Serif\" font-size=\"14.00\">average_word_length &lt;= 4.6882</text>\n",
       "<text text-anchor=\"middle\" x=\"292.5\" y=\"-334.8\" font-family=\"Helvetica,sans-Serif\" font-size=\"14.00\">samples = 24</text>\n",
       "<text text-anchor=\"middle\" x=\"292.5\" y=\"-319.8\" font-family=\"Helvetica,sans-Serif\" font-size=\"14.00\">value = [9, 9, 6]</text>\n",
       "<text text-anchor=\"middle\" x=\"292.5\" y=\"-304.8\" font-family=\"Helvetica,sans-Serif\" font-size=\"14.00\">class = Politics</text>\n",
       "</g>\n",
       "<!-- 1 -->\n",
       "<g id=\"node2\" class=\"node\"><title>1</title>\n",
       "<path fill=\"#39e581\" fill-opacity=\"0.776471\" stroke=\"black\" d=\"M260.5,-261C260.5,-261 144.5,-261 144.5,-261 138.5,-261 132.5,-255 132.5,-249 132.5,-249 132.5,-205 132.5,-205 132.5,-199 138.5,-193 144.5,-193 144.5,-193 260.5,-193 260.5,-193 266.5,-193 272.5,-199 272.5,-205 272.5,-205 272.5,-249 272.5,-249 272.5,-255 266.5,-261 260.5,-261\"/>\n",
       "<text text-anchor=\"middle\" x=\"202.5\" y=\"-245.8\" font-family=\"Helvetica,sans-Serif\" font-size=\"14.00\">text_length &lt;= 355.0</text>\n",
       "<text text-anchor=\"middle\" x=\"202.5\" y=\"-230.8\" font-family=\"Helvetica,sans-Serif\" font-size=\"14.00\">samples = 11</text>\n",
       "<text text-anchor=\"middle\" x=\"202.5\" y=\"-215.8\" font-family=\"Helvetica,sans-Serif\" font-size=\"14.00\">value = [0, 9, 2]</text>\n",
       "<text text-anchor=\"middle\" x=\"202.5\" y=\"-200.8\" font-family=\"Helvetica,sans-Serif\" font-size=\"14.00\">class = Sports</text>\n",
       "</g>\n",
       "<!-- 0&#45;&gt;1 -->\n",
       "<g id=\"edge1\" class=\"edge\"><title>0&#45;&gt;1</title>\n",
       "<path fill=\"none\" stroke=\"black\" d=\"M263.28,-296.884C255.42,-287.976 246.825,-278.235 238.638,-268.957\"/>\n",
       "<polygon fill=\"black\" stroke=\"black\" points=\"241.122,-266.482 231.882,-261.299 235.874,-271.113 241.122,-266.482\"/>\n",
       "<text text-anchor=\"middle\" x=\"230.322\" y=\"-282.551\" font-family=\"Helvetica,sans-Serif\" font-size=\"14.00\">True</text>\n",
       "</g>\n",
       "<!-- 4 -->\n",
       "<g id=\"node5\" class=\"node\"><title>4</title>\n",
       "<path fill=\"#e58139\" fill-opacity=\"0.556863\" stroke=\"black\" d=\"M464,-261C464,-261 303,-261 303,-261 297,-261 291,-255 291,-249 291,-249 291,-205 291,-205 291,-199 297,-193 303,-193 303,-193 464,-193 464,-193 470,-193 476,-199 476,-205 476,-205 476,-249 476,-249 476,-255 470,-261 464,-261\"/>\n",
       "<text text-anchor=\"middle\" x=\"383.5\" y=\"-245.8\" font-family=\"Helvetica,sans-Serif\" font-size=\"14.00\">number_of_numbers &lt;= 3.5</text>\n",
       "<text text-anchor=\"middle\" x=\"383.5\" y=\"-230.8\" font-family=\"Helvetica,sans-Serif\" font-size=\"14.00\">samples = 13</text>\n",
       "<text text-anchor=\"middle\" x=\"383.5\" y=\"-215.8\" font-family=\"Helvetica,sans-Serif\" font-size=\"14.00\">value = [9, 0, 4]</text>\n",
       "<text text-anchor=\"middle\" x=\"383.5\" y=\"-200.8\" font-family=\"Helvetica,sans-Serif\" font-size=\"14.00\">class = Politics</text>\n",
       "</g>\n",
       "<!-- 0&#45;&gt;4 -->\n",
       "<g id=\"edge4\" class=\"edge\"><title>0&#45;&gt;4</title>\n",
       "<path fill=\"none\" stroke=\"black\" d=\"M322.045,-296.884C329.992,-287.976 338.682,-278.235 346.96,-268.957\"/>\n",
       "<polygon fill=\"black\" stroke=\"black\" points=\"349.746,-271.091 353.792,-261.299 344.523,-266.431 349.746,-271.091\"/>\n",
       "<text text-anchor=\"middle\" x=\"355.214\" y=\"-282.559\" font-family=\"Helvetica,sans-Serif\" font-size=\"14.00\">False</text>\n",
       "</g>\n",
       "<!-- 2 -->\n",
       "<g id=\"node3\" class=\"node\"><title>2</title>\n",
       "<path fill=\"#8139e5\" stroke=\"black\" d=\"M121,-149.5C121,-149.5 12,-149.5 12,-149.5 6,-149.5 0,-143.5 0,-137.5 0,-137.5 0,-108.5 0,-108.5 0,-102.5 6,-96.5 12,-96.5 12,-96.5 121,-96.5 121,-96.5 127,-96.5 133,-102.5 133,-108.5 133,-108.5 133,-137.5 133,-137.5 133,-143.5 127,-149.5 121,-149.5\"/>\n",
       "<text text-anchor=\"middle\" x=\"66.5\" y=\"-134.3\" font-family=\"Helvetica,sans-Serif\" font-size=\"14.00\">samples = 2</text>\n",
       "<text text-anchor=\"middle\" x=\"66.5\" y=\"-119.3\" font-family=\"Helvetica,sans-Serif\" font-size=\"14.00\">value = [0, 0, 2]</text>\n",
       "<text text-anchor=\"middle\" x=\"66.5\" y=\"-104.3\" font-family=\"Helvetica,sans-Serif\" font-size=\"14.00\">class = Technology</text>\n",
       "</g>\n",
       "<!-- 1&#45;&gt;2 -->\n",
       "<g id=\"edge2\" class=\"edge\"><title>1&#45;&gt;2</title>\n",
       "<path fill=\"none\" stroke=\"black\" d=\"M158.345,-192.884C142.361,-180.896 124.365,-167.399 108.566,-155.549\"/>\n",
       "<polygon fill=\"black\" stroke=\"black\" points=\"110.627,-152.72 100.527,-149.52 106.427,-158.32 110.627,-152.72\"/>\n",
       "</g>\n",
       "<!-- 3 -->\n",
       "<g id=\"node4\" class=\"node\"><title>3</title>\n",
       "<path fill=\"#39e581\" stroke=\"black\" d=\"M249.5,-149.5C249.5,-149.5 163.5,-149.5 163.5,-149.5 157.5,-149.5 151.5,-143.5 151.5,-137.5 151.5,-137.5 151.5,-108.5 151.5,-108.5 151.5,-102.5 157.5,-96.5 163.5,-96.5 163.5,-96.5 249.5,-96.5 249.5,-96.5 255.5,-96.5 261.5,-102.5 261.5,-108.5 261.5,-108.5 261.5,-137.5 261.5,-137.5 261.5,-143.5 255.5,-149.5 249.5,-149.5\"/>\n",
       "<text text-anchor=\"middle\" x=\"206.5\" y=\"-134.3\" font-family=\"Helvetica,sans-Serif\" font-size=\"14.00\">samples = 9</text>\n",
       "<text text-anchor=\"middle\" x=\"206.5\" y=\"-119.3\" font-family=\"Helvetica,sans-Serif\" font-size=\"14.00\">value = [0, 9, 0]</text>\n",
       "<text text-anchor=\"middle\" x=\"206.5\" y=\"-104.3\" font-family=\"Helvetica,sans-Serif\" font-size=\"14.00\">class = Sports</text>\n",
       "</g>\n",
       "<!-- 1&#45;&gt;3 -->\n",
       "<g id=\"edge3\" class=\"edge\"><title>1&#45;&gt;3</title>\n",
       "<path fill=\"none\" stroke=\"black\" d=\"M203.799,-192.884C204.217,-182.216 204.682,-170.352 205.107,-159.519\"/>\n",
       "<polygon fill=\"black\" stroke=\"black\" points=\"208.605,-159.649 205.499,-149.52 201.61,-159.375 208.605,-159.649\"/>\n",
       "</g>\n",
       "<!-- 5 -->\n",
       "<g id=\"node6\" class=\"node\"><title>5</title>\n",
       "<path fill=\"#8139e5\" fill-opacity=\"0.666667\" stroke=\"black\" d=\"M462.5,-157C462.5,-157 298.5,-157 298.5,-157 292.5,-157 286.5,-151 286.5,-145 286.5,-145 286.5,-101 286.5,-101 286.5,-95 292.5,-89 298.5,-89 298.5,-89 462.5,-89 462.5,-89 468.5,-89 474.5,-95 474.5,-101 474.5,-101 474.5,-145 474.5,-145 474.5,-151 468.5,-157 462.5,-157\"/>\n",
       "<text text-anchor=\"middle\" x=\"380.5\" y=\"-141.8\" font-family=\"Helvetica,sans-Serif\" font-size=\"14.00\">number_of_verbs &lt;= 0.1418</text>\n",
       "<text text-anchor=\"middle\" x=\"380.5\" y=\"-126.8\" font-family=\"Helvetica,sans-Serif\" font-size=\"14.00\">samples = 4</text>\n",
       "<text text-anchor=\"middle\" x=\"380.5\" y=\"-111.8\" font-family=\"Helvetica,sans-Serif\" font-size=\"14.00\">value = [1, 0, 3]</text>\n",
       "<text text-anchor=\"middle\" x=\"380.5\" y=\"-96.8\" font-family=\"Helvetica,sans-Serif\" font-size=\"14.00\">class = Technology</text>\n",
       "</g>\n",
       "<!-- 4&#45;&gt;5 -->\n",
       "<g id=\"edge5\" class=\"edge\"><title>4&#45;&gt;5</title>\n",
       "<path fill=\"none\" stroke=\"black\" d=\"M382.526,-192.884C382.288,-184.778 382.029,-175.982 381.779,-167.472\"/>\n",
       "<polygon fill=\"black\" stroke=\"black\" points=\"385.272,-167.192 381.479,-157.299 378.275,-167.398 385.272,-167.192\"/>\n",
       "</g>\n",
       "<!-- 8 -->\n",
       "<g id=\"node9\" class=\"node\"><title>8</title>\n",
       "<path fill=\"#e58139\" fill-opacity=\"0.874510\" stroke=\"black\" d=\"M692.5,-157C692.5,-157 504.5,-157 504.5,-157 498.5,-157 492.5,-151 492.5,-145 492.5,-145 492.5,-101 492.5,-101 492.5,-95 498.5,-89 504.5,-89 504.5,-89 692.5,-89 692.5,-89 698.5,-89 704.5,-95 704.5,-101 704.5,-101 704.5,-145 704.5,-145 704.5,-151 698.5,-157 692.5,-157\"/>\n",
       "<text text-anchor=\"middle\" x=\"598.5\" y=\"-141.8\" font-family=\"Helvetica,sans-Serif\" font-size=\"14.00\">average_word_length &lt;= 4.8642</text>\n",
       "<text text-anchor=\"middle\" x=\"598.5\" y=\"-126.8\" font-family=\"Helvetica,sans-Serif\" font-size=\"14.00\">samples = 9</text>\n",
       "<text text-anchor=\"middle\" x=\"598.5\" y=\"-111.8\" font-family=\"Helvetica,sans-Serif\" font-size=\"14.00\">value = [8, 0, 1]</text>\n",
       "<text text-anchor=\"middle\" x=\"598.5\" y=\"-96.8\" font-family=\"Helvetica,sans-Serif\" font-size=\"14.00\">class = Politics</text>\n",
       "</g>\n",
       "<!-- 4&#45;&gt;8 -->\n",
       "<g id=\"edge8\" class=\"edge\"><title>4&#45;&gt;8</title>\n",
       "<path fill=\"none\" stroke=\"black\" d=\"M453.304,-192.884C474.44,-182.856 497.802,-171.773 519.495,-161.482\"/>\n",
       "<polygon fill=\"black\" stroke=\"black\" points=\"521.144,-164.573 528.678,-157.125 518.143,-158.249 521.144,-164.573\"/>\n",
       "</g>\n",
       "<!-- 6 -->\n",
       "<g id=\"node7\" class=\"node\"><title>6</title>\n",
       "<path fill=\"#e58139\" stroke=\"black\" d=\"M302.5,-53C302.5,-53 216.5,-53 216.5,-53 210.5,-53 204.5,-47 204.5,-41 204.5,-41 204.5,-12 204.5,-12 204.5,-6 210.5,-0 216.5,-0 216.5,-0 302.5,-0 302.5,-0 308.5,-0 314.5,-6 314.5,-12 314.5,-12 314.5,-41 314.5,-41 314.5,-47 308.5,-53 302.5,-53\"/>\n",
       "<text text-anchor=\"middle\" x=\"259.5\" y=\"-37.8\" font-family=\"Helvetica,sans-Serif\" font-size=\"14.00\">samples = 1</text>\n",
       "<text text-anchor=\"middle\" x=\"259.5\" y=\"-22.8\" font-family=\"Helvetica,sans-Serif\" font-size=\"14.00\">value = [1, 0, 0]</text>\n",
       "<text text-anchor=\"middle\" x=\"259.5\" y=\"-7.8\" font-family=\"Helvetica,sans-Serif\" font-size=\"14.00\">class = Politics</text>\n",
       "</g>\n",
       "<!-- 5&#45;&gt;6 -->\n",
       "<g id=\"edge6\" class=\"edge\"><title>5&#45;&gt;6</title>\n",
       "<path fill=\"none\" stroke=\"black\" d=\"M338.18,-88.9485C325.998,-79.4346 312.732,-69.074 300.624,-59.6175\"/>\n",
       "<polygon fill=\"black\" stroke=\"black\" points=\"302.489,-56.6335 292.454,-53.2367 298.181,-62.1504 302.489,-56.6335\"/>\n",
       "</g>\n",
       "<!-- 7 -->\n",
       "<g id=\"node8\" class=\"node\"><title>7</title>\n",
       "<path fill=\"#8139e5\" stroke=\"black\" d=\"M454,-53C454,-53 345,-53 345,-53 339,-53 333,-47 333,-41 333,-41 333,-12 333,-12 333,-6 339,-0 345,-0 345,-0 454,-0 454,-0 460,-0 466,-6 466,-12 466,-12 466,-41 466,-41 466,-47 460,-53 454,-53\"/>\n",
       "<text text-anchor=\"middle\" x=\"399.5\" y=\"-37.8\" font-family=\"Helvetica,sans-Serif\" font-size=\"14.00\">samples = 3</text>\n",
       "<text text-anchor=\"middle\" x=\"399.5\" y=\"-22.8\" font-family=\"Helvetica,sans-Serif\" font-size=\"14.00\">value = [0, 0, 3]</text>\n",
       "<text text-anchor=\"middle\" x=\"399.5\" y=\"-7.8\" font-family=\"Helvetica,sans-Serif\" font-size=\"14.00\">class = Technology</text>\n",
       "</g>\n",
       "<!-- 5&#45;&gt;7 -->\n",
       "<g id=\"edge7\" class=\"edge\"><title>5&#45;&gt;7</title>\n",
       "<path fill=\"none\" stroke=\"black\" d=\"M387.145,-88.9485C388.819,-80.6238 390.623,-71.6509 392.322,-63.2027\"/>\n",
       "<polygon fill=\"black\" stroke=\"black\" points=\"395.786,-63.7304 394.325,-53.2367 388.923,-62.3506 395.786,-63.7304\"/>\n",
       "</g>\n",
       "<!-- 9 -->\n",
       "<g id=\"node10\" class=\"node\"><title>9</title>\n",
       "<path fill=\"none\" stroke=\"black\" d=\"M621.5,-53C621.5,-53 535.5,-53 535.5,-53 529.5,-53 523.5,-47 523.5,-41 523.5,-41 523.5,-12 523.5,-12 523.5,-6 529.5,-0 535.5,-0 535.5,-0 621.5,-0 621.5,-0 627.5,-0 633.5,-6 633.5,-12 633.5,-12 633.5,-41 633.5,-41 633.5,-47 627.5,-53 621.5,-53\"/>\n",
       "<text text-anchor=\"middle\" x=\"578.5\" y=\"-37.8\" font-family=\"Helvetica,sans-Serif\" font-size=\"14.00\">samples = 2</text>\n",
       "<text text-anchor=\"middle\" x=\"578.5\" y=\"-22.8\" font-family=\"Helvetica,sans-Serif\" font-size=\"14.00\">value = [1, 0, 1]</text>\n",
       "<text text-anchor=\"middle\" x=\"578.5\" y=\"-7.8\" font-family=\"Helvetica,sans-Serif\" font-size=\"14.00\">class = Politics</text>\n",
       "</g>\n",
       "<!-- 8&#45;&gt;9 -->\n",
       "<g id=\"edge9\" class=\"edge\"><title>8&#45;&gt;9</title>\n",
       "<path fill=\"none\" stroke=\"black\" d=\"M591.505,-88.9485C589.743,-80.6238 587.844,-71.6509 586.056,-63.2027\"/>\n",
       "<polygon fill=\"black\" stroke=\"black\" points=\"589.442,-62.2953 583.947,-53.2367 582.593,-63.7447 589.442,-62.2953\"/>\n",
       "</g>\n",
       "<!-- 10 -->\n",
       "<g id=\"node11\" class=\"node\"><title>10</title>\n",
       "<path fill=\"#e58139\" stroke=\"black\" d=\"M749.5,-53C749.5,-53 663.5,-53 663.5,-53 657.5,-53 651.5,-47 651.5,-41 651.5,-41 651.5,-12 651.5,-12 651.5,-6 657.5,-0 663.5,-0 663.5,-0 749.5,-0 749.5,-0 755.5,-0 761.5,-6 761.5,-12 761.5,-12 761.5,-41 761.5,-41 761.5,-47 755.5,-53 749.5,-53\"/>\n",
       "<text text-anchor=\"middle\" x=\"706.5\" y=\"-37.8\" font-family=\"Helvetica,sans-Serif\" font-size=\"14.00\">samples = 7</text>\n",
       "<text text-anchor=\"middle\" x=\"706.5\" y=\"-22.8\" font-family=\"Helvetica,sans-Serif\" font-size=\"14.00\">value = [7, 0, 0]</text>\n",
       "<text text-anchor=\"middle\" x=\"706.5\" y=\"-7.8\" font-family=\"Helvetica,sans-Serif\" font-size=\"14.00\">class = Politics</text>\n",
       "</g>\n",
       "<!-- 8&#45;&gt;10 -->\n",
       "<g id=\"edge10\" class=\"edge\"><title>8&#45;&gt;10</title>\n",
       "<path fill=\"none\" stroke=\"black\" d=\"M636.273,-88.9485C647.042,-79.526 658.759,-69.2731 669.482,-59.8906\"/>\n",
       "<polygon fill=\"black\" stroke=\"black\" points=\"671.866,-62.4558 677.087,-53.2367 667.256,-57.1878 671.866,-62.4558\"/>\n",
       "</g>\n",
       "</g>\n",
       "</svg>\n"
      ],
      "text/plain": [
       "<graphviz.files.Source at 0x7faebff59710>"
      ]
     },
     "execution_count": 53,
     "metadata": {},
     "output_type": "execute_result"
    }
   ],
   "source": [
    "from sklearn.tree import export_graphviz\n",
    "import graphviz\n",
    "\n",
    "export_graphviz(clf_tree, \n",
    "                out_file=\"decisiontree.dot\",\n",
    "                feature_names=lv.get_feature_names(),\n",
    "                class_names=pipeline.classes_,\n",
    "                filled=True,\n",
    "                rounded=True,\n",
    "                impurity=False )\n",
    "with open(\"decisiontree.dot\") as f:\n",
    "    dot_graph = f.read()\n",
    "graphviz.Source(dot_graph)"
   ]
  },
  {
   "cell_type": "code",
   "execution_count": 55,
   "metadata": {
    "collapsed": false,
    "deletable": true,
    "editable": true
   },
   "outputs": [
    {
     "name": "stdout",
     "output_type": "stream",
     "text": [
      "0.166666666667\n"
     ]
    }
   ],
   "source": [
    "print(clf_tree.score(X=test_data, y=Y_test))"
   ]
  }
 ],
 "metadata": {
  "kernelspec": {
   "display_name": "Python 3",
   "language": "python",
   "name": "python3"
  },
  "language_info": {
   "codemirror_mode": {
    "name": "ipython",
    "version": 3
   },
   "file_extension": ".py",
   "mimetype": "text/x-python",
   "name": "python",
   "nbconvert_exporter": "python",
   "pygments_lexer": "ipython3",
   "version": "3.5.3"
  }
 },
 "nbformat": 4,
 "nbformat_minor": 2
}
