{
 "cells": [
  {
   "cell_type": "code",
   "execution_count": 3,
   "metadata": {
    "collapsed": true
   },
   "outputs": [],
   "source": [
    "import nltk # language processing\n",
    "import os # operation system\n",
    "import numpy as np\n",
    "import re, collections\n",
    "import nltk.corpus\n",
    "from nltk.tokenize import word_tokenize\n",
    "from nltk import pos_tag\n",
    "from nltk import bigrams\n",
    "from nltk import trigrams"
   ]
  },
  {
   "cell_type": "code",
   "execution_count": 4,
   "metadata": {
    "collapsed": false
   },
   "outputs": [
    {
     "ename": "FileNotFoundError",
     "evalue": "[Errno 2] No such file or directory: '/home/retkowski/data/bbc/business/Great Western rail modernisation costs rocket, says NAO.txt'",
     "output_type": "error",
     "traceback": [
      "\u001b[0;31m---------------------------------------------------------------------------\u001b[0m",
      "\u001b[0;31mFileNotFoundError\u001b[0m                         Traceback (most recent call last)",
      "\u001b[0;32m<ipython-input-4-797b6301e1f6>\u001b[0m in \u001b[0;36m<module>\u001b[0;34m()\u001b[0m\n\u001b[0;32m----> 1\u001b[0;31m \u001b[0;32mwith\u001b[0m \u001b[0mopen\u001b[0m\u001b[0;34m(\u001b[0m\u001b[0;34m\"/home/retkowski/data/bbc/business/Great Western rail modernisation costs rocket, says NAO.txt\"\u001b[0m\u001b[0;34m)\u001b[0m \u001b[0;32mas\u001b[0m \u001b[0mf\u001b[0m\u001b[0;34m:\u001b[0m\u001b[0;34m\u001b[0m\u001b[0m\n\u001b[0m\u001b[1;32m      2\u001b[0m     \u001b[0mtext\u001b[0m \u001b[0;34m=\u001b[0m \u001b[0mf\u001b[0m\u001b[0;34m.\u001b[0m\u001b[0mread\u001b[0m\u001b[0;34m(\u001b[0m\u001b[0;34m)\u001b[0m\u001b[0;34m\u001b[0m\u001b[0m\n\u001b[1;32m      3\u001b[0m     \u001b[0mf\u001b[0m\u001b[0;34m.\u001b[0m\u001b[0mclose\u001b[0m\u001b[0;34m(\u001b[0m\u001b[0;34m)\u001b[0m\u001b[0;34m\u001b[0m\u001b[0m\n",
      "\u001b[0;31mFileNotFoundError\u001b[0m: [Errno 2] No such file or directory: '/home/retkowski/data/bbc/business/Great Western rail modernisation costs rocket, says NAO.txt'"
     ]
    }
   ],
   "source": [
    "with open(\"/home/retkowski/data/bbc/business/Great Western rail modernisation costs rocket, says NAO.txt\") as f:\n",
    "    text = f.read()\n",
    "    f.close()"
   ]
  },
  {
   "cell_type": "code",
   "execution_count": null,
   "metadata": {
    "collapsed": false
   },
   "outputs": [],
   "source": [
    "pos = {}\n",
    "tagged = nltk.pos_tag(word_tokenize(text))\n",
    "for tag in tagged:\n",
    "    print(tag)"
   ]
  },
  {
   "cell_type": "code",
   "execution_count": null,
   "metadata": {
    "collapsed": true
   },
   "outputs": [],
   "source": [
    "tokens = word_tokenize(text)"
   ]
  },
  {
   "cell_type": "code",
   "execution_count": 5,
   "metadata": {
    "collapsed": false
   },
   "outputs": [
    {
     "ename": "NameError",
     "evalue": "name 'tokens' is not defined",
     "output_type": "error",
     "traceback": [
      "\u001b[0;31m---------------------------------------------------------------------------\u001b[0m",
      "\u001b[0;31mNameError\u001b[0m                                 Traceback (most recent call last)",
      "\u001b[0;32m<ipython-input-5-cb4c93c4c9e3>\u001b[0m in \u001b[0;36m<module>\u001b[0;34m()\u001b[0m\n\u001b[0;32m----> 1\u001b[0;31m \u001b[0mtokens\u001b[0m \u001b[0;34m=\u001b[0m \u001b[0;34m[\u001b[0m\u001b[0mtoken\u001b[0m\u001b[0;34m.\u001b[0m\u001b[0mlower\u001b[0m\u001b[0;34m(\u001b[0m\u001b[0;34m)\u001b[0m \u001b[0;32mfor\u001b[0m \u001b[0mtoken\u001b[0m \u001b[0;32min\u001b[0m \u001b[0mtokens\u001b[0m \u001b[0;32mif\u001b[0m \u001b[0mlen\u001b[0m\u001b[0;34m(\u001b[0m\u001b[0mtoken\u001b[0m\u001b[0;34m)\u001b[0m \u001b[0;34m>\u001b[0m \u001b[0;36m1\u001b[0m\u001b[0;34m]\u001b[0m\u001b[0;34m\u001b[0m\u001b[0m\n\u001b[0m\u001b[1;32m      2\u001b[0m \u001b[0mbi_tokens\u001b[0m \u001b[0;34m=\u001b[0m \u001b[0mbigrams\u001b[0m\u001b[0;34m(\u001b[0m\u001b[0mtokens\u001b[0m\u001b[0;34m)\u001b[0m\u001b[0;34m\u001b[0m\u001b[0m\n\u001b[1;32m      3\u001b[0m \u001b[0mfdist\u001b[0m \u001b[0;34m=\u001b[0m \u001b[0mnltk\u001b[0m\u001b[0;34m.\u001b[0m\u001b[0mFreqDist\u001b[0m\u001b[0;34m(\u001b[0m\u001b[0mbi_tokens\u001b[0m\u001b[0;34m)\u001b[0m\u001b[0;34m\u001b[0m\u001b[0m\n\u001b[1;32m      4\u001b[0m \u001b[0;34m\u001b[0m\u001b[0m\n\u001b[1;32m      5\u001b[0m \u001b[0mprint\u001b[0m\u001b[0;34m(\u001b[0m\u001b[0mfdist\u001b[0m\u001b[0;34m.\u001b[0m\u001b[0mmost_common\u001b[0m\u001b[0;34m(\u001b[0m\u001b[0;36m50\u001b[0m\u001b[0;34m)\u001b[0m\u001b[0;34m)\u001b[0m\u001b[0;34m\u001b[0m\u001b[0m\n",
      "\u001b[0;31mNameError\u001b[0m: name 'tokens' is not defined"
     ]
    }
   ],
   "source": [
    "tokens = [token.lower() for token in tokens if len(token) > 1]\n",
    "bi_tokens = bigrams(tokens)\n",
    "fdist = nltk.FreqDist(bi_tokens)\n",
    "\n",
    "print(fdist.most_common(50))"
   ]
  },
  {
   "cell_type": "code",
   "execution_count": 9,
   "metadata": {
    "collapsed": false
   },
   "outputs": [
    {
     "ename": "TypeError",
     "evalue": "'CategorizedPlaintextCorpusReader' object does not support indexing",
     "output_type": "error",
     "traceback": [
      "\u001b[0;31m---------------------------------------------------------------------------\u001b[0m",
      "\u001b[0;31mTypeError\u001b[0m                                 Traceback (most recent call last)",
      "\u001b[0;32m<ipython-input-9-28b63544e1af>\u001b[0m in \u001b[0;36m<module>\u001b[0;34m()\u001b[0m\n\u001b[0;32m----> 1\u001b[0;31m \u001b[0mprint\u001b[0m\u001b[0;34m(\u001b[0m\u001b[0mnltk\u001b[0m\u001b[0;34m.\u001b[0m\u001b[0mcorpus\u001b[0m\u001b[0;34m.\u001b[0m\u001b[0mreuters\u001b[0m\u001b[0;34m[\u001b[0m\u001b[0;36m0\u001b[0m\u001b[0;34m]\u001b[0m\u001b[0;34m)\u001b[0m\u001b[0;34m\u001b[0m\u001b[0m\n\u001b[0m",
      "\u001b[0;31mTypeError\u001b[0m: 'CategorizedPlaintextCorpusReader' object does not support indexing"
     ]
    }
   ],
   "source": [
    "print(nltk.corpus.reuters)"
   ]
  },
  {
   "cell_type": "code",
   "execution_count": 8,
   "metadata": {
    "collapsed": false
   },
   "outputs": [
    {
     "name": "stdout",
     "output_type": "stream",
     "text": [
      "['acq', 'alum', 'barley', 'bop', 'carcass', 'castor-oil', 'cocoa', 'coconut', 'coconut-oil', 'coffee', 'copper', 'copra-cake', 'corn', 'cotton', 'cotton-oil', 'cpi', 'cpu', 'crude', 'dfl', 'dlr', 'dmk', 'earn', 'fuel', 'gas', 'gnp', 'gold', 'grain', 'groundnut', 'groundnut-oil', 'heat', 'hog', 'housing', 'income', 'instal-debt', 'interest', 'ipi', 'iron-steel', 'jet', 'jobs', 'l-cattle', 'lead', 'lei', 'lin-oil', 'livestock', 'lumber', 'meal-feed', 'money-fx', 'money-supply', 'naphtha', 'nat-gas', 'nickel', 'nkr', 'nzdlr', 'oat', 'oilseed', 'orange', 'palladium', 'palm-oil', 'palmkernel', 'pet-chem', 'platinum', 'potato', 'propane', 'rand', 'rape-oil', 'rapeseed', 'reserves', 'retail', 'rice', 'rubber', 'rye', 'ship', 'silver', 'sorghum', 'soy-meal', 'soy-oil', 'soybean', 'strategic-metal', 'sugar', 'sun-meal', 'sun-oil', 'sunseed', 'tea', 'tin', 'trade', 'veg-oil', 'wheat', 'wpi', 'yen', 'zinc']\n"
     ]
    }
   ],
   "source": [
    "print(nltk.corpus.reuters.categories())"
   ]
  },
  {
   "cell_type": "code",
   "execution_count": 50,
   "metadata": {
    "collapsed": true
   },
   "outputs": [],
   "source": [
    "def unusual_words(text):\n",
    "    text_vocab = set(w.lower() for w in text if w.isalpha())\n",
    "    english_vocab = set(w.lower() for w in nltk.corpus.words.words('en'))\n",
    "    unusual = text_vocab - english_vocab\n",
    "    return sorted(unusual)"
   ]
  },
  {
   "cell_type": "code",
   "execution_count": 51,
   "metadata": {
    "collapsed": false
   },
   "outputs": [
    {
     "name": "stdout",
     "output_type": "stream",
     "text": [
      "['abbeyland', 'abhorred', 'abilities', 'abounded', 'abridgement', 'abused', 'abuses', 'accents', 'accepting', 'accommodations', 'accompanied', 'accounted', 'accounts', 'accustomary', 'aches', 'acknowledging', 'acknowledgment', 'acknowledgments', 'acquaintances', 'acquiesced', 'acquitted', 'acquitting', 'acted', 'actions', 'adapted', 'adding', 'additions', 'addressed', 'addresses', 'addressing', 'adhering', 'adieus', 'adjusting', 'administering', 'admirers', 'admires', 'admitting', 'adorned', 'advances', 'advantages', 'affairs', 'affections', 'affects', 'affixed', 'afflictions', 'afforded', 'affording', 'ages', 'agitated', 'agonies', 'ailments', 'aimed', 'alarms', 'alienated', 'alighted', 'alleged', 'allenham', 'allowances', 'allowed', 'allowing', 'alluded', 'alterations', 'altered', 'altering', 'amended', 'amounted', 'amusements', 'ankles', 'annamaria', 'annexed', 'announced', 'announcing', 'annuities', 'annum', 'answered', 'answering', 'answers', 'anticipated', 'anticipating', 'anticipations', 'anymore', 'apartments', 'apologies', 'apologising', 'apologized', 'appearances', 'appeared', 'appearing', 'appeased', 'appetites', 'applauded', 'applying', 'appointed', 'apprehended', 'apprehensions', 'approached', 'approved', 'arbour', 'ardour', 'arguments', 'arranged', 'arrangements', 'arranging', 'arrived', 'arrives', 'arriving', 'ascended', 'ascertained', 'asked', 'asking', 'assembled', 'assemblies', 'asserted', 'assertions', 'assiduities', 'assisted', 'assisting', 'associating', 'assurances', 'astonished', 'atoned', 'atoning', 'attaching', 'attachments', 'attacked', 'attacks', 'attained', 'attempted', 'attempting', 'attempts', 'attendants', 'attended', 'attending', 'attentions', 'attracted', 'attractions', 'attributed', 'attributing', 'auditors', 'augmenting', 'austen', 'authorised', 'authors', 'availed', 'avignon', 'avoided', 'avoiding', 'awaited', 'awakened', 'awaking', 'bags', 'balls', 'banished', 'barouches', 'bathed', 'bears', 'beasts', 'beauties', 'became', 'bedrooms', 'beds', 'befallen', 'befalls', 'befell', 'began', 'begged', 'begins', 'behaved', 'behaviour', 'beings', 'believed', 'believes', 'belonged', 'belongs', 'benefited', 'bequeathed', 'berkeley', 'bestowed', 'betrayed', 'betraying', 'biased', 'blackest', 'blameable', 'blessings', 'blights', 'blossoms', 'blundered', 'blushed', 'blushes', 'bolder', 'bones', 'bonomi', 'books', 'booksellers', 'borrowed', 'bottoms', 'boys', 'breakfasting', 'bribing', 'brightened', 'brighter', 'bringing', 'brings', 'broader', 'brothers', 'bruised', 'buildings', 'bursts', 'buying', 'called', 'calls', 'calming', 'candles', 'candour', 'canvassing', 'cards', 'cares', 'caresses', 'careys', 'carriages', 'carries', 'cases', 'casts', 'cats', 'caused', 'ceased', 'ceasing', 'censured', 'centre', 'certainties', 'chagrined', 'chairs', 'chambers', 'chanced', 'changed', 'changes', 'changing', 'characters', 'charged', 'charmed', 'charms', 'cheated', 'checking', 'cheeks', 'cheerfuller', 'cherished', 'cherries', 'children', 'choked', 'chuse', 'chusing', 'circles', 'circumstances', 'civilities', 'claimed', 'claiming', 'claims', 'clarke', 'cleared', 'cleveland', 'clogged', 'closing', 'clouds', 'coats', 'collecting', 'colour', 'coloured', 'colouring', 'combe', 'comforted', 'comforts', 'comings', 'commanded', 'commands', 'commended', 'comments', 'commissioned', 'commonest', 'communicated', 'companions', 'compared', 'compares', 'comparisons', 'complained', 'complaining', 'complaints', 'completed', 'compliments', 'comprehended', 'concealing', 'concerns', 'concessions', 'concluded', 'conclusions', 'conditions', 'conducted', 'confessed', 'confidante', 'conforming', 'congratulated', 'congratulating', 'congratulations', 'conjectured', 'conjectures', 'conjecturing', 'connections', 'conquests', 'consented', 'consequences', 'considerations', 'considers', 'consisted', 'consists', 'consoled', 'conspired', 'constantia', 'consulted', 'contained', 'containing', 'contend', 'contenting', 'continuing', 'contradicted', 'contrasted', 'contributed', 'contributing', 'contrived', 'contrives', 'contriving', 'controlled', 'conveniences', 'conversations', 'conversed', 'conversing', 'conveyed', 'conveying', 'copying', 'cordials', 'cottages', 'counsellor', 'counteracted', 'couples', 'courted', 'courting', 'courtland', 'cousins', 'cowper', 'cows', 'coxcombs', 'cramps', 'created', 'creating', 'creatures', 'cries', 'crimsoned', 'curtsying', 'cutlets', 'danced', 'dances', 'dared', 'darker', 'dartford', 'dashwood', 'dashwoods', 'daughters', 'davies', 'dawdled', 'dawlish', 'dawned', 'dearer', 'dearest', 'debated', 'debts', 'deceived', 'deciding', 'decisions', 'declares', 'declaring', 'declining', 'deemed', 'deeper', 'deepest', 'defects', 'defended', 'deficiencies', 'degrees', 'delaford', 'delayed', 'delays', 'deliberating', 'delicacies', 'delighful', 'delineated', 'delivered', 'demanded', 'demands', 'demonstrations', 'demur', 'denied', 'dennison', 'denoted', 'denoting', 'departing', 'depended', 'depends', 'deprived', 'described', 'describing', 'deserts', 'deserves', 'designs', 'desiring', 'despatch', 'despatching', 'despised', 'despising', 'destroyed', 'destroys', 'detaining', 'detected', 'detecting', 'determining', 'deterred', 'detested', 'devolved', 'died', 'dies', 'differed', 'differing', 'difficulties', 'dimensions', 'diminished', 'dined', 'dinners', 'directing', 'directions', 'disagreements', 'disappeared', 'disappointments', 'disapproved', 'disapproves', 'disapproving', 'discarded', 'discharged', 'disclaiming', 'disclosing', 'discontents', 'discovering', 'discussions', 'disgraced', 'disinherited', 'disliked', 'dismissed', 'dismounted', 'dispatched', 'dispatches', 'dispersing', 'disposing', 'disputes', 'disqualifications', 'disregarded', 'dissembling', 'dissented', 'distresses', 'distrusts', 'diverted', 'doatingly', 'donavan', 'doomed', 'dooming', 'doors', 'dorsetshire', 'doubted', 'doubts', 'douceur', 'downs', 'dr', 'drains', 'drawings', 'draws', 'dreaded', 'dreading', 'dreaming', 'dresses', 'drives', 'dropped', 'drops', 'drury', 'duets', 'duties', 'earlier', 'earliest', 'earned', 'ears', 'echoed', 'editions', 'edtions', 'effected', 'effecting', 'effusions', 'ellison', 'ellisons', 'eloping', 'eluded', 'embellishments', 'embraced', 'embraces', 'employments', 'enabled', 'enamoured', 'encouraged', 'encouragements', 'encroachments', 'encumbered', 'endeavoring', 'endeavors', 'endeavour', 'endeavoured', 'endeavouring', 'endeavours', 'endowed', 'ends', 'endured', 'enfeebled', 'enforcing', 'engagements', 'england', 'enjoyed', 'enjoyments', 'enquired', 'enquiries', 'enquiring', 'ensued', 'ensured', 'entered', 'entertained', 'entitled', 'entreated', 'entreaties', 'entrusted', 'equalled', 'equals', 'erred', 'errors', 'escaped', 'esq', 'establishing', 'esteemed', 'esteeming', 'esteems', 'estimating', 'estranged', 'evenings', 'events', 'evils', 'examined', 'exceeded', 'excellencies', 'exchanged', 'exclaimed', 'exclamations', 'excused', 'excuses', 'exercised', 'exercising', 'exerted', 'exertions', 'exeter', 'exhilarated', 'existed', 'expectations', 'expected', 'expecting', 'expects', 'expenses', 'experiencing', 'explained', 'explanations', 'expressing', 'expressions', 'extolling', 'extorted', 'extorting', 'extremest', 'eyeing', 'eyes', 'faces', 'facts', 'failed', 'falls', 'familiarized', 'families', 'fancying', 'fates', 'fatigued', 'fatigues', 'faults', 'favour', 'favourable', 'favourite', 'favourites', 'fearing', 'fears', 'features', 'feelings', 'feels', 'feet', 'felicitations', 'females', 'ferrars', 'fetches', 'fettered', 'finds', 'finest', 'fingers', 'flattered', 'flatteries', 'flowed', 'fluctuating', 'flushed', 'foibles', 'followed', 'follows', 'fond', 'footsteps', 'forebodings', 'foreplanned', 'foresaw', 'foreseeing', 'foreseen', 'forfeited', 'forfeiting', 'forgave', 'forgiven', 'forms', 'forsaking', 'fortunes', 'forwarded', 'foundations', 'founded', 'fowls', 'friendliest', 'friends', 'frightens', 'froid', 'frosts', 'fulfil', 'fulfilled', 'fullest', 'gained', 'gales', 'gardens', 'garrets', 'gates', 'gathered', 'generations', 'gentlemen', 'gigs', 'gilberts', 'girls', 'gives', 'glances', 'gloried', 'gloves', 'godby', 'goings', 'goodby', 'governed', 'gowns', 'graces', 'grandmothers', 'granted', 'greatest', 'grieves', 'grows', 'guardians', 'guessed', 'guests', 'guided', 'guineas', 'habits', 'hallooing', 'hands', 'handsomer', 'handsomest', 'hang', 'hanover', 'happened', 'happens', 'harbour', 'hardened', 'hardships', 'harley', 'has', 'hastened', 'hastening', 'hated', 'hates', 'hating', 'having', 'hazarded', 'hazarding', 'heads', 'heard', 'hears', 'heightened', 'heightening', 'heights', 'heirs', 'held', 'hens', 'henshawe', 'hesitated', 'hiding', 'hills', 'hinted', 'hints', 'hoarded', 'holborn', 'holburn', 'holds', 'holidays', 'homes', 'honeysuckles', 'honiton', 'honour', 'honourable', 'honourably', 'honoured', 'honours', 'hopes', 'hoping', 'horrors', 'horses', 'hours', 'houses', 'howsever', 'humbled', 'humiliations', 'humored', 'humour', 'humoured', 'humouring', 'hunted', 'hunters', 'hunts', 'hurrying', 'husbands', 'huswifes', 'ideas', 'idled', 'idolized', 'ii', 'imaginations', 'imagined', 'imagining', 'imbibed', 'immoveable', 'imparted', 'imperfections', 'implied', 'implies', 'impoverished', 'impoverishing', 'improved', 'improvements', 'imputed', 'inclinations', 'inclined', 'inclosing', 'including', 'incommoded', 'inconveniences', 'increased', 'incurred', 'incurring', 'indulged', 'infants', 'inflicted', 'inflicting', 'influenced', 'inforce', 'inforced', 'informing', 'inhabitants', 'inhabiting', 'inheriting', 'injuries', 'inquired', 'inquiries', 'insinuations', 'insisted', 'installed', 'instigated', 'instructions', 'insulted', 'intends', 'intentions', 'intents', 'interests', 'interposed', 'interspersed', 'intervals', 'interviews', 'intimated', 'introduced', 'introducing', 'intruded', 'invented', 'inventing', 'invitations', 'invited', 'irritated', 'irritates', 'issued', 'jealousies', 'jenning', 'jennings', 'jewels', 'jilting', 'joined', 'joked', 'jokes', 'joking', 'joys', 'judged', 'judging', 'judgments', 'jumbled', 'justified', 'keeps', 'keys', 'kicked', 'kinder', 'kindest', 'kingham', 'kissed', 'kisses', 'knees', 'knives', 'knows', 'laboured', 'lamentations', 'lamps', 'lanes', 'languages', 'larger', 'largest', 'lasted', 'laughed', 'laughs', 'leagued', 'legacies', 'lengthened', 'lengths', 'lessened', 'lessening', 'letters', 'letting', 'lies', 'lifted', 'lightened', 'liked', 'likes', 'limbs', 'limits', 'lines', 'lingered', 'lingering', 'lips', 'listened', 'lives', 'livings', 'll', 'lodges', 'loitered', 'lombardy', 'london', 'longed', 'longest', 'longstaple', 'looked', 'looks', 'loved', 'lovers', 'loves', 'lowered', 'lurking', 'magna', 'maids', 'maintained', 'makes', 'mama', 'managed', 'marlborough', 'marriages', 'marries', 'matters', 'maxims', 'meadows', 'meals', 'means', 'meantime', 'measures', 'medicines', 'meditated', 'meditations', 'meetings', 'mentioned', 'mentioning', 'merest', 'merits', 'merrier', 'messages', 'middleton', 'middletons', 'militated', 'minds', 'minutes', 'misapplied', 'misinformed', 'missed', 'misses', 'mistakes', 'mixing', 'modestest', 'mohrs', 'moments', 'months', 'mosquitoes', 'mothers', 'motives', 'moved', 'murmurings', 'muttered', 'nabobs', 'named', 'names', 'natured', 'near', 'nearer', 'needed', 'neglected', 'neighbour', 'neighbourhood', 'neighbouring', 'neighbourly', 'neighbours', 'nerves', 'nests', 'nettles', 'newer', 'newspapers', 'nicest', 'nieces', 'nipped', 'nodded', 'nods', 'noisier', 'notes', 'noticed', 'noticing', 'notions', 'nt', 'nurses', 'obeyed', 'objected', 'objections', 'objects', 'obligations', 'observations', 'observed', 'obstacles', 'obstructed', 'obtained', 'obtaining', 'obviated', 'obviating', 'occasioned', 'occasions', 'occupations', 'occupied', 'occurred', 'oddest', 'offence', 'offences', 'offending', 'offered', 'offices', 'oftener', 'oftenest', 'oldest', 'olives', 'omitted', 'ones', 'opened', 'opinions', 'opportunities', 'ordained', 'orders', 'originated', 'ornamented', 'ornaments', 'others', 'outdone', 'outgrown', 'outlived', 'outraged', 'outstaid', 'outstretched', 'outstripped', 'outweighs', 'overcame', 'overcoming', 'overheard', 'overlooked', 'overpowered', 'overspreading', 'overstrained', 'owed', 'owned', 'owners', 'owning', 'paces', 'pacified', 'packages', 'packed', 'pages', 'paid', 'pains', 'palanquins', 'palmers', 'pangs', 'papers', 'parcels', 'parents', 'parlors', 'parlour', 'parrys', 'particulars', 'parties', 'parting', 'partners', 'parts', 'passages', 'passed', 'passions', 'patches', 'patronised', 'patterns', 'paused', 'pausing', 'pearls', 'perceived', 'perfections', 'performances', 'performed', 'performers', 'performing', 'permitting', 'persecutions', 'persevered', 'persisted', 'persons', 'persuading', 'pictures', 'pieces', 'pimples', 'piqued', 'pitched', 'pitied', 'placed', 'placing', 'plaguing', 'planning', 'plans', 'plantations', 'plants', 'played', 'playfellows', 'playing', 'playthings', 'pleasanter', 'pleasantest', 'pleased', 'pleasures', 'plums', 'pointers', 'points', 'ponds', 'poplars', 'popt', 'possesses', 'possessions', 'postponing', 'posts', 'pounds', 'poured', 'powers', 'practices', 'practise', 'practised', 'praised', 'praises', 'prayers', 'pre', 'preceded', 'preferring', 'prejudices', 'premeditated', 'premises', 'prenticed', 'preparations', 'preparing', 'prescribed', 'prescriptions', 'presented', 'presenting', 'presents', 'preserved', 'presided', 'pressed', 'presumed', 'pretence', 'pretends', 'pretensions', 'prettier', 'prettiest', 'prevailed', 'prevailing', 'prevented', 'preyed', 'principles', 'probabilities', 'proceeded', 'proclaimed', 'procured', 'procuring', 'producing', 'professions', 'profited', 'prohibited', 'projects', 'promised', 'promises', 'promontories', 'promoted', 'promoting', 'prompted', 'pronouncing', 'proofs', 'propensities', 'prophecies', 'proposals', 'proposed', 'prospects', 'protestations', 'protested', 'proud', 'provisions', 'provoked', 'publishing', 'pulled', 'puppies', 'purchases', 'purposes', 'pursued', 'pursuing', 'pursuits', 'puts', 'putting', 'qualifications', 'quarrelled', 'quarrelling', 'questions', 'quickened', 'quicker', 'quickest', 'quieted', 'quitting', 'rained', 'raises', 'rambles', 'raptures', 'reached', 'reaped', 'reasonings', 'reasons', 'recalled', 'receiving', 'reckoned', 'reckons', 'reclining', 'recognised', 'recollecting', 'recommended', 'recommending', 'reconciled', 'recovered', 'recovering', 'recreating', 'recurred', 'referred', 'referring', 'refinements', 'reflections', 'refreshed', 'refreshments', 'refused', 'regarded', 'regards', 'regrets', 'regretted', 'regretting', 'rejected', 'rejoiced', 'relating', 'relations', 'relatives', 'released', 'relics', 'relied', 'relinquished', 'relying', 'remained', 'remaining', 'remarks', 'remedies', 'remembered', 'remembering', 'remembers', 'remembrances', 'reminded', 'reminding', 'reminds', 'removes', 'rendered', 'renewed', 'renewing', 'renounced', 'repaid', 'repaired', 'repeating', 'repining', 'replied', 'replying', 'reports', 'representations', 'represented', 'representing', 'reproached', 'reproaches', 'reproaching', 'reproved', 'reproving', 'repulsed', 'requested', 'requesting', 'required', 'requires', 'requiring', 'rescued', 'reseated', 'resembled', 'resembling', 'resented', 'resettled', 'resided', 'residing', 'resisted', 'resists', 'resolving', 'resorted', 'resources', 'respected', 'respects', 'rested', 'restored', 'restoring', 'restraints', 'resumed', 'retailed', 'retained', 'retreated', 'retrenched', 'returning', 'reverted', 'revived', 'rewarded', 'rheumatisms', 'ribbons', 'richardson', 'richardsons', 'richer', 'rings', 'rises', 'risking', 'rivals', 'roads', 'roared', 'robbed', 'rocks', 'rooms', 'roused', 'ruins', 'rumour', 'sackville', 'sacrificed', 'sakes', 'salts', 'sandersons', 'sashes', 'sauntered', 'saves', 'savings', 'says', 'scenes', 'schemes', 'scolded', 'scorning', 'scotland', 'scrawls', 'screamed', 'screams', 'screens', 'scrupled', 'scruples', 'scrupling', 'scrutinies', 'searched', 'seasons', 'seats', 'seconded', 'seconds', 'secrets', 'secured', 'secures', 'securing', 'seduced', 'seemed', 'seems', 'seized', 'sellers', 'sends', 'sensations', 'senses', 'sentences', 'sentiments', 'separated', 'separations', 'servants', 'served', 'services', 'shades', 'shakespeare', 'shared', 'sharing', 'sharpe', 'shew', 'shewed', 'shewing', 'shewn', 'shews', 'shillings', 'shocked', 'shoes', 'shops', 'shoulders', 'showed', 'showers', 'shrubberies', 'shrugging', 'shuddering', 'shutters', 'sighed', 'signs', 'silencing', 'silks', 'simpered', 'simpering', 'simplest', 'simpson', 'sisters', 'situations', 'slightest', 'smallest', 'smiled', 'smiles', 'smirked', 'smokes', 'sobbed', 'sobered', 'sobs', 'softened', 'solicitations', 'somersetshire', 'songs', 'soothings', 'sorrows', 'souls', 'sounds', 'sources', 'spared', 'speaks', 'spends', 'spirits', 'sportsmen', 'sprained', 'spraining', 'spunging', 'spurned', 'stairs', 'stammered', 'stanhill', 'stared', 'stares', 'started', 'startled', 'stating', 'staying', 'steele', 'steeles', 'steepest', 'steps', 'stimulated', 'stirred', 'stockings', 'stopt', 'strains', 'strangers', 'streamed', 'strengthened', 'stretched', 'strictest', 'strikes', 'stronger', 'strongest', 'struggled', 'studies', 'stupified', 'styled', 'subjects', 'submitted', 'submitting', 'subsisted', 'subsisting', 'succeeded', 'succour', 'suffered', 'sufferings', 'suffers', 'suggested', 'suited', 'summits', 'summoned', 'superannuated', 'supplanted', 'supplied', 'supplying', 'supported', 'supports', 'surfaces', 'surpassed', 'surprised', 'survived', 'suspecting', 'suspects', 'suspicions', 'swallowed', 'sweetest', 'sweetmeats', 'syllables', 'sympathised', 'symptoms', 'systems', 'takes', 'talents', 'talked', 'talks', 'tallest', 'tastes', 'taverns', 'tears', 'teazed', 'teazing', 'tells', 'tempers', 'tempted', 'tended', 'tenderest', 'terminated', 'terms', 'thanked', 'things', 'thinks', 'thirds', 'thistles', 'thomson', 'thorns', 'thoughts', 'threatened', 'threats', 'thunderbolts', 'tis', 'tithes', 'traced', 'traded', 'trades', 'traits', 'transacted', 'transgressed', 'travellers', 'travelling', 'treasured', 'treated', 'trees', 'trembled', 'tremour', 'trials', 'tricked', 'tricks', 'tries', 'trifled', 'troubles', 'truest', 'trusted', 'truths', 'twould', 'undergone', 'undervalued', 'unfavourable', 'unites', 'unlover', 'unpleasantest', 'urged', 'ushered', 'using', 'valleys', 'variations', 'varying', 've', 'ventured', 'venturing', 'viewed', 'viewing', 'views', 'vigour', 'villages', 'violins', 'virtues', 'visited', 'visitors', 'visits', 'voices', 'vouchsafed', 'waistcoats', 'waited', 'walked', 'walks', 'walls', 'wandered', 'wanted', 'wants', 'warmest', 'weakened', 'weaknesses', 'weddings', 'weeks', 'welcomed', 'westminster', 'westons', 'wettest', 'weymouth', 'whiled', 'whims', 'whitakers', 'whiter', 'whitwell', 'wildest', 'williams', 'willoughby', 'willoughbys', 'windows', 'winks', 'wiping', 'wisest', 'wishes', 'withdrew', 'witnessed', 'witnesses', 'witnessing', 'witticisms', 'wittiest', 'wives', 'women', 'wondered', 'woods', 'words', 'workmen', 'worlds', 'wrapt', 'writes', 'yards', 'years', 'yielded', 'youngest']\n"
     ]
    }
   ],
   "source": [
    " print(unusual_words(nltk.corpus.gutenberg.words('austen-sense.txt')))"
   ]
  }
 ],
 "metadata": {
  "anaconda-cloud": {},
  "kernelspec": {
   "display_name": "Python [conda root]",
   "language": "python",
   "name": "conda-root-py"
  },
  "language_info": {
   "codemirror_mode": {
    "name": "ipython",
    "version": 3
   },
   "file_extension": ".py",
   "mimetype": "text/x-python",
   "name": "python",
   "nbconvert_exporter": "python",
   "pygments_lexer": "ipython3",
   "version": "3.5.2"
  }
 },
 "nbformat": 4,
 "nbformat_minor": 1
}
