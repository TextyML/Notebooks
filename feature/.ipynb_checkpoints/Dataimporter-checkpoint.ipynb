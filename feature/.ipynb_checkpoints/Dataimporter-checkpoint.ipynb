{
 "cells": [
  {
   "cell_type": "code",
   "execution_count": 4,
   "metadata": {
    "collapsed": true
   },
   "outputs": [],
   "source": [
    "import os # operation system\n",
    "from collections import namedtuple\n",
    "\n",
    "class Importer():\n",
    "    def __init__(self):\n",
    "        self._NewsCollection = []\n",
    "        self._News = namedtuple(\"News\",[\"title\",\"site\",\"topic\",\"text\"])\n",
    "\n",
    "    def _importAll(self):\n",
    "        path = \"/home/retkowski/Data/data\"\n",
    "\n",
    "        #count = 0\n",
    "        sites = [site for site in os.listdir(path) if os.path.isdir(os.path.join(path, site)) and not site[0]== \".\"]\n",
    "        for site in sites:\n",
    "            sitepath = path +\"/\"+site\n",
    "            for categorie in os.listdir(sitepath) :\n",
    "                if categorie[0] == \".\":\n",
    "                    continue\n",
    "                categoriepath = path+\"/\"+site+\"/\"+categorie\n",
    "                if os.path.exists(categoriepath):\n",
    "                    for file in os.listdir(categoriepath):\n",
    "                        #Strange Empty files ?!\n",
    "                        if file.endswith(\".txt\") and len(file[:-4]) > 0:\n",
    "                            with open(categoriepath+\"/\"+file) as f:\n",
    "                                newNews = self._News(title=file[:-4], site=site, topic=categorie, text= f.read())\n",
    "                                self._NewsCollection.append(newNews)\n",
    "                                #count += 1\n",
    "                                f.close()\n",
    "        return self._NewsCollection"
   ]
  }
 ],
 "metadata": {
  "anaconda-cloud": {},
  "kernelspec": {
   "display_name": "Python [conda root]",
   "language": "python",
   "name": "conda-root-py"
  },
  "language_info": {
   "codemirror_mode": {
    "name": "ipython",
    "version": 3
   },
   "file_extension": ".py",
   "mimetype": "text/x-python",
   "name": "python",
   "nbconvert_exporter": "python",
   "pygments_lexer": "ipython3",
   "version": "3.5.2"
  }
 },
 "nbformat": 4,
 "nbformat_minor": 1
}
